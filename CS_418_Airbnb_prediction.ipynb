{
 "cells": [
  {
   "cell_type": "markdown",
   "id": "2656b2b7",
   "metadata": {},
   "source": [
    "## Project Overview\n",
    "\n",
    "Airbnb is an online marketplace for short-term home and apartment rentals. It allows you to, to rent out your home for a week while you’re away, or rent out your empty house/bedroom to have a peacful and quality vacation.\n",
    "The challenge is that Airbnb hosts face is determining the optimal nightly rent price. In many areas, renters are presented with a good selection of listings and can filter by criteria like price, number of bedrooms, room type, and more.\n",
    "\n",
    "#### The target population of interest\n",
    "\n",
    "This project helps the hosts at Airbnb in providing the proper listings on their webiste according to the seasons and helping them to improve the chance of their place getting booked with the more appropriate price.\n",
    "\n",
    "#### Aim of the Project\n",
    "The aim of this project is to answer the below questions\n",
    "1. Predict rental prices and influential features of Airbnb.\n",
    "2. Sentiment Analysis on Reviews of Airbnb which can impact on customer decision.\n",
    "3. Top amenities that are essential to Airbnb and that customers expect.\n",
    "4. Predicting future price trends for various seasons.\n",
    "\n",
    "#### Innovativeness of the project\n",
    "\n",
    "We not only tend to answer the above questions, but also answer by visualizing the following the questions:\n",
    "<p>1. What is the season pattern of Airbnb in Chicago?<br>\n",
    "2. What kinds of Airbnb homes are popular?<br>\n",
    "3. What factors of the rental price have the most impact?</p>\n",
    "\n",
    "#### Is the Data Already Available?\n",
    "\n",
    "Airbnb does not release any data on the listings in its marketplace, but a separate group named Inside Airbnb scrapes and compiles publicly available information about many cities Airbnb's listings from the Airbnb web-site. For this project, their data set scraped on September 11, 2021, on the city of Chicago, Illinois, is used. It contains information on all Chicago Airbnb listings that were live on the site on that date (over 7400)\n",
    "\n",
    "Dataset Link: http://insideairbnb.com/chicago"
   ]
  },
  {
   "cell_type": "markdown",
   "id": "48c30613",
   "metadata": {},
   "source": [
    "## Any changes\n",
    "<p>The scope of the project remains the same i.e. to predict the rental prices and answer the questions such as seasonal pattern of Airbnb in Chicago, kind of homes which are popular and most infulential features about the rental price.</p>"
   ]
  },
  {
   "cell_type": "markdown",
   "id": "228df93a",
   "metadata": {},
   "source": [
    "## Any changes\n",
    "<p>The scope of the project remains the same i.e. to predict the rental prices and answer the questions such as seasonal pattern of Airbnb in Chicago, kind of homes which are popular and most infulential features about the rental price.</p>"
   ]
  },
  {
   "cell_type": "code",
   "execution_count": 5,
   "id": "e101d728",
   "metadata": {},
   "outputs": [],
   "source": [
    "import pandas as pd"
   ]
  },
  {
   "cell_type": "code",
   "execution_count": 6,
   "id": "98c09019",
   "metadata": {},
   "outputs": [],
   "source": [
    "airbnb_listings = pd.read_csv('listings.csv')"
   ]
  },
  {
   "cell_type": "code",
   "execution_count": 7,
   "id": "fe4ef7d1",
   "metadata": {},
   "outputs": [
    {
     "data": {
      "text/html": [
       "<div>\n",
       "<style scoped>\n",
       "    .dataframe tbody tr th:only-of-type {\n",
       "        vertical-align: middle;\n",
       "    }\n",
       "\n",
       "    .dataframe tbody tr th {\n",
       "        vertical-align: top;\n",
       "    }\n",
       "\n",
       "    .dataframe thead th {\n",
       "        text-align: right;\n",
       "    }\n",
       "</style>\n",
       "<table border=\"1\" class=\"dataframe\">\n",
       "  <thead>\n",
       "    <tr style=\"text-align: right;\">\n",
       "      <th></th>\n",
       "      <th>id</th>\n",
       "      <th>listing_url</th>\n",
       "      <th>scrape_id</th>\n",
       "      <th>last_scraped</th>\n",
       "      <th>source</th>\n",
       "      <th>name</th>\n",
       "      <th>description</th>\n",
       "      <th>neighborhood_overview</th>\n",
       "      <th>picture_url</th>\n",
       "      <th>host_id</th>\n",
       "      <th>...</th>\n",
       "      <th>review_scores_communication</th>\n",
       "      <th>review_scores_location</th>\n",
       "      <th>review_scores_value</th>\n",
       "      <th>license</th>\n",
       "      <th>instant_bookable</th>\n",
       "      <th>calculated_host_listings_count</th>\n",
       "      <th>calculated_host_listings_count_entire_homes</th>\n",
       "      <th>calculated_host_listings_count_private_rooms</th>\n",
       "      <th>calculated_host_listings_count_shared_rooms</th>\n",
       "      <th>reviews_per_month</th>\n",
       "    </tr>\n",
       "  </thead>\n",
       "  <tbody>\n",
       "    <tr>\n",
       "      <th>0</th>\n",
       "      <td>2384.0</td>\n",
       "      <td>https://www.airbnb.com/rooms/2384</td>\n",
       "      <td>2.022090e+13</td>\n",
       "      <td>9/14/2022</td>\n",
       "      <td>city scrape</td>\n",
       "      <td>Hyde Park - Walk to UChicago</td>\n",
       "      <td>You are invited to be the sole Airbnb guest in...</td>\n",
       "      <td>The apartment is less than one block from beau...</td>\n",
       "      <td>https://a0.muscache.com/pictures/acf6b3c0-47f2...</td>\n",
       "      <td>2613</td>\n",
       "      <td>...</td>\n",
       "      <td>4.99</td>\n",
       "      <td>4.96</td>\n",
       "      <td>4.94</td>\n",
       "      <td>R17000015609</td>\n",
       "      <td>t</td>\n",
       "      <td>1</td>\n",
       "      <td>0</td>\n",
       "      <td>1</td>\n",
       "      <td>0</td>\n",
       "      <td>2.21</td>\n",
       "    </tr>\n",
       "    <tr>\n",
       "      <th>1</th>\n",
       "      <td>7126.0</td>\n",
       "      <td>https://www.airbnb.com/rooms/7126</td>\n",
       "      <td>2.022090e+13</td>\n",
       "      <td>9/14/2022</td>\n",
       "      <td>city scrape</td>\n",
       "      <td>Tiny Studio Apartment 94 Walk Score</td>\n",
       "      <td>A very small studio in a wonderful neighborhoo...</td>\n",
       "      <td>Ukrainian Village was just named \"Hottest Neig...</td>\n",
       "      <td>https://a0.muscache.com/pictures/51073/16c81c7...</td>\n",
       "      <td>17928</td>\n",
       "      <td>...</td>\n",
       "      <td>4.87</td>\n",
       "      <td>4.88</td>\n",
       "      <td>4.74</td>\n",
       "      <td>R21000075737</td>\n",
       "      <td>f</td>\n",
       "      <td>1</td>\n",
       "      <td>1</td>\n",
       "      <td>0</td>\n",
       "      <td>0</td>\n",
       "      <td>2.86</td>\n",
       "    </tr>\n",
       "    <tr>\n",
       "      <th>2</th>\n",
       "      <td>10945.0</td>\n",
       "      <td>https://www.airbnb.com/rooms/10945</td>\n",
       "      <td>2.022090e+13</td>\n",
       "      <td>9/14/2022</td>\n",
       "      <td>city scrape</td>\n",
       "      <td>The Biddle House (#1)</td>\n",
       "      <td>Beautiful first floor apartment in Historic Ol...</td>\n",
       "      <td>NaN</td>\n",
       "      <td>https://a0.muscache.com/pictures/58d1a420-a24b...</td>\n",
       "      <td>33004</td>\n",
       "      <td>...</td>\n",
       "      <td>4.77</td>\n",
       "      <td>4.98</td>\n",
       "      <td>4.64</td>\n",
       "      <td>2209984</td>\n",
       "      <td>t</td>\n",
       "      <td>9</td>\n",
       "      <td>9</td>\n",
       "      <td>0</td>\n",
       "      <td>0</td>\n",
       "      <td>0.55</td>\n",
       "    </tr>\n",
       "    <tr>\n",
       "      <th>3</th>\n",
       "      <td>12140.0</td>\n",
       "      <td>https://www.airbnb.com/rooms/12140</td>\n",
       "      <td>2.022090e+13</td>\n",
       "      <td>9/14/2022</td>\n",
       "      <td>city scrape</td>\n",
       "      <td>Lincoln Park Guest House</td>\n",
       "      <td>Bed and Breakfast license issued by the City o...</td>\n",
       "      <td>The Guest House is in the heart of Chicago's m...</td>\n",
       "      <td>https://a0.muscache.com/pictures/55126/6a4f01b...</td>\n",
       "      <td>46734</td>\n",
       "      <td>...</td>\n",
       "      <td>5.00</td>\n",
       "      <td>5.00</td>\n",
       "      <td>4.85</td>\n",
       "      <td>R20000055258</td>\n",
       "      <td>f</td>\n",
       "      <td>1</td>\n",
       "      <td>0</td>\n",
       "      <td>1</td>\n",
       "      <td>0</td>\n",
       "      <td>0.15</td>\n",
       "    </tr>\n",
       "    <tr>\n",
       "      <th>4</th>\n",
       "      <td>24833.0</td>\n",
       "      <td>https://www.airbnb.com/rooms/24833</td>\n",
       "      <td>2.022090e+13</td>\n",
       "      <td>9/14/2022</td>\n",
       "      <td>city scrape</td>\n",
       "      <td>Prime LincolnPark 1 Block Fullerton Express L ...</td>\n",
       "      <td>Perfect private entrance apartment one block f...</td>\n",
       "      <td>Lincoln Park is a great neighborhood where peo...</td>\n",
       "      <td>https://a0.muscache.com/pictures/ac17be6f-40bd...</td>\n",
       "      <td>101521</td>\n",
       "      <td>...</td>\n",
       "      <td>3.96</td>\n",
       "      <td>4.89</td>\n",
       "      <td>4.18</td>\n",
       "      <td>City registration pending</td>\n",
       "      <td>f</td>\n",
       "      <td>3</td>\n",
       "      <td>3</td>\n",
       "      <td>0</td>\n",
       "      <td>0</td>\n",
       "      <td>0.27</td>\n",
       "    </tr>\n",
       "  </tbody>\n",
       "</table>\n",
       "<p>5 rows × 75 columns</p>\n",
       "</div>"
      ],
      "text/plain": [
       "        id                         listing_url     scrape_id last_scraped  \\\n",
       "0   2384.0   https://www.airbnb.com/rooms/2384  2.022090e+13    9/14/2022   \n",
       "1   7126.0   https://www.airbnb.com/rooms/7126  2.022090e+13    9/14/2022   \n",
       "2  10945.0  https://www.airbnb.com/rooms/10945  2.022090e+13    9/14/2022   \n",
       "3  12140.0  https://www.airbnb.com/rooms/12140  2.022090e+13    9/14/2022   \n",
       "4  24833.0  https://www.airbnb.com/rooms/24833  2.022090e+13    9/14/2022   \n",
       "\n",
       "        source                                               name  \\\n",
       "0  city scrape                       Hyde Park - Walk to UChicago   \n",
       "1  city scrape                Tiny Studio Apartment 94 Walk Score   \n",
       "2  city scrape                              The Biddle House (#1)   \n",
       "3  city scrape                           Lincoln Park Guest House   \n",
       "4  city scrape  Prime LincolnPark 1 Block Fullerton Express L ...   \n",
       "\n",
       "                                         description  \\\n",
       "0  You are invited to be the sole Airbnb guest in...   \n",
       "1  A very small studio in a wonderful neighborhoo...   \n",
       "2  Beautiful first floor apartment in Historic Ol...   \n",
       "3  Bed and Breakfast license issued by the City o...   \n",
       "4  Perfect private entrance apartment one block f...   \n",
       "\n",
       "                               neighborhood_overview  \\\n",
       "0  The apartment is less than one block from beau...   \n",
       "1  Ukrainian Village was just named \"Hottest Neig...   \n",
       "2                                                NaN   \n",
       "3  The Guest House is in the heart of Chicago's m...   \n",
       "4  Lincoln Park is a great neighborhood where peo...   \n",
       "\n",
       "                                         picture_url  host_id  ...  \\\n",
       "0  https://a0.muscache.com/pictures/acf6b3c0-47f2...     2613  ...   \n",
       "1  https://a0.muscache.com/pictures/51073/16c81c7...    17928  ...   \n",
       "2  https://a0.muscache.com/pictures/58d1a420-a24b...    33004  ...   \n",
       "3  https://a0.muscache.com/pictures/55126/6a4f01b...    46734  ...   \n",
       "4  https://a0.muscache.com/pictures/ac17be6f-40bd...   101521  ...   \n",
       "\n",
       "  review_scores_communication review_scores_location review_scores_value  \\\n",
       "0                        4.99                   4.96                4.94   \n",
       "1                        4.87                   4.88                4.74   \n",
       "2                        4.77                   4.98                4.64   \n",
       "3                        5.00                   5.00                4.85   \n",
       "4                        3.96                   4.89                4.18   \n",
       "\n",
       "                     license instant_bookable calculated_host_listings_count  \\\n",
       "0               R17000015609                t                              1   \n",
       "1               R21000075737                f                              1   \n",
       "2                    2209984                t                              9   \n",
       "3               R20000055258                f                              1   \n",
       "4  City registration pending                f                              3   \n",
       "\n",
       "  calculated_host_listings_count_entire_homes  \\\n",
       "0                                           0   \n",
       "1                                           1   \n",
       "2                                           9   \n",
       "3                                           0   \n",
       "4                                           3   \n",
       "\n",
       "  calculated_host_listings_count_private_rooms  \\\n",
       "0                                            1   \n",
       "1                                            0   \n",
       "2                                            0   \n",
       "3                                            1   \n",
       "4                                            0   \n",
       "\n",
       "  calculated_host_listings_count_shared_rooms reviews_per_month  \n",
       "0                                           0              2.21  \n",
       "1                                           0              2.86  \n",
       "2                                           0              0.55  \n",
       "3                                           0              0.15  \n",
       "4                                           0              0.27  \n",
       "\n",
       "[5 rows x 75 columns]"
      ]
     },
     "execution_count": 7,
     "metadata": {},
     "output_type": "execute_result"
    }
   ],
   "source": [
    "airbnb_listings.head(5)"
   ]
  },
  {
   "cell_type": "code",
   "execution_count": 8,
   "id": "847dd415",
   "metadata": {},
   "outputs": [
    {
     "name": "stdout",
     "output_type": "stream",
     "text": [
      "<class 'pandas.core.frame.DataFrame'>\n",
      "RangeIndex: 7414 entries, 0 to 7413\n",
      "Data columns (total 75 columns):\n",
      " #   Column                                        Non-Null Count  Dtype  \n",
      "---  ------                                        --------------  -----  \n",
      " 0   id                                            7414 non-null   float64\n",
      " 1   listing_url                                   7414 non-null   object \n",
      " 2   scrape_id                                     7414 non-null   float64\n",
      " 3   last_scraped                                  7414 non-null   object \n",
      " 4   source                                        7414 non-null   object \n",
      " 5   name                                          7414 non-null   object \n",
      " 6   description                                   7393 non-null   object \n",
      " 7   neighborhood_overview                         5105 non-null   object \n",
      " 8   picture_url                                   7414 non-null   object \n",
      " 9   host_id                                       7414 non-null   int64  \n",
      " 10  host_url                                      7414 non-null   object \n",
      " 11  host_name                                     7414 non-null   object \n",
      " 12  host_since                                    7414 non-null   object \n",
      " 13  host_location                                 6307 non-null   object \n",
      " 14  host_about                                    4991 non-null   object \n",
      " 15  host_response_time                            6529 non-null   object \n",
      " 16  host_response_rate                            6529 non-null   object \n",
      " 17  host_acceptance_rate                          6747 non-null   object \n",
      " 18  host_is_superhost                             7409 non-null   object \n",
      " 19  host_thumbnail_url                            7414 non-null   object \n",
      " 20  host_picture_url                              7414 non-null   object \n",
      " 21  host_neighbourhood                            6790 non-null   object \n",
      " 22  host_listings_count                           7414 non-null   int64  \n",
      " 23  host_total_listings_count                     7414 non-null   int64  \n",
      " 24  host_verifications                            7414 non-null   object \n",
      " 25  host_has_profile_pic                          7414 non-null   object \n",
      " 26  host_identity_verified                        7414 non-null   object \n",
      " 27  neighbourhood                                 5105 non-null   object \n",
      " 28  neighbourhood_cleansed                        7414 non-null   object \n",
      " 29  neighbourhood_group_cleansed                  0 non-null      float64\n",
      " 30  latitude                                      7414 non-null   float64\n",
      " 31  longitude                                     7414 non-null   float64\n",
      " 32  property_type                                 7414 non-null   object \n",
      " 33  room_type                                     7414 non-null   object \n",
      " 34  accommodates                                  7414 non-null   int64  \n",
      " 35  bathrooms                                     0 non-null      float64\n",
      " 36  bathrooms_text                                7400 non-null   object \n",
      " 37  bedrooms                                      6818 non-null   float64\n",
      " 38  beds                                          7347 non-null   float64\n",
      " 39  amenities                                     7414 non-null   object \n",
      " 40  price                                         7414 non-null   object \n",
      " 41  minimum_nights                                7414 non-null   int64  \n",
      " 42  maximum_nights                                7414 non-null   int64  \n",
      " 43  minimum_minimum_nights                        7414 non-null   int64  \n",
      " 44  maximum_minimum_nights                        7414 non-null   int64  \n",
      " 45  minimum_maximum_nights                        7414 non-null   int64  \n",
      " 46  maximum_maximum_nights                        7414 non-null   int64  \n",
      " 47  minimum_nights_avg_ntm                        7414 non-null   float64\n",
      " 48  maximum_nights_avg_ntm                        7414 non-null   float64\n",
      " 49  calendar_updated                              0 non-null      float64\n",
      " 50  has_availability                              7414 non-null   object \n",
      " 51  availability_30                               7414 non-null   int64  \n",
      " 52  availability_60                               7414 non-null   int64  \n",
      " 53  availability_90                               7414 non-null   int64  \n",
      " 54  availability_365                              7414 non-null   int64  \n",
      " 55  calendar_last_scraped                         7414 non-null   object \n",
      " 56  number_of_reviews                             7414 non-null   int64  \n",
      " 57  number_of_reviews_ltm                         7414 non-null   int64  \n",
      " 58  number_of_reviews_l30d                        7414 non-null   int64  \n",
      " 59  first_review                                  6102 non-null   object \n",
      " 60  last_review                                   6102 non-null   object \n",
      " 61  review_scores_rating                          6102 non-null   float64\n",
      " 62  review_scores_accuracy                        6087 non-null   float64\n",
      " 63  review_scores_cleanliness                     6087 non-null   float64\n",
      " 64  review_scores_checkin                         6087 non-null   float64\n",
      " 65  review_scores_communication                   6086 non-null   float64\n",
      " 66  review_scores_location                        6087 non-null   float64\n",
      " 67  review_scores_value                           6087 non-null   float64\n",
      " 68  license                                       6148 non-null   object \n",
      " 69  instant_bookable                              7414 non-null   object \n",
      " 70  calculated_host_listings_count                7414 non-null   int64  \n",
      " 71  calculated_host_listings_count_entire_homes   7414 non-null   int64  \n",
      " 72  calculated_host_listings_count_private_rooms  7414 non-null   int64  \n",
      " 73  calculated_host_listings_count_shared_rooms   7414 non-null   int64  \n",
      " 74  reviews_per_month                             6102 non-null   float64\n",
      "dtypes: float64(19), int64(21), object(35)\n",
      "memory usage: 4.2+ MB\n"
     ]
    }
   ],
   "source": [
    "airbnb_listings.info()"
   ]
  },
  {
   "cell_type": "code",
   "execution_count": 9,
   "id": "9ca7f1e7",
   "metadata": {},
   "outputs": [
    {
     "data": {
      "text/plain": [
       "(7414, 75)"
      ]
     },
     "execution_count": 9,
     "metadata": {},
     "output_type": "execute_result"
    }
   ],
   "source": [
    "airbnb_listings.shape"
   ]
  },
  {
   "cell_type": "code",
   "execution_count": 10,
   "id": "892979a3",
   "metadata": {},
   "outputs": [
    {
     "name": "stderr",
     "output_type": "stream",
     "text": [
      "C:\\Users\\1\\AppData\\Local\\Temp\\ipykernel_15284\\1780241388.py:1: DtypeWarning: Columns (2) have mixed types. Specify dtype option on import or set low_memory=False.\n",
      "  airbnb_reviews = pd.read_csv(\"reviews.csv\")\n"
     ]
    }
   ],
   "source": [
    "airbnb_reviews = pd.read_csv(\"reviews.csv\")"
   ]
  },
  {
   "cell_type": "code",
   "execution_count": 11,
   "id": "ed8dac00",
   "metadata": {},
   "outputs": [
    {
     "data": {
      "text/html": [
       "<div>\n",
       "<style scoped>\n",
       "    .dataframe tbody tr th:only-of-type {\n",
       "        vertical-align: middle;\n",
       "    }\n",
       "\n",
       "    .dataframe tbody tr th {\n",
       "        vertical-align: top;\n",
       "    }\n",
       "\n",
       "    .dataframe thead th {\n",
       "        text-align: right;\n",
       "    }\n",
       "</style>\n",
       "<table border=\"1\" class=\"dataframe\">\n",
       "  <thead>\n",
       "    <tr style=\"text-align: right;\">\n",
       "      <th></th>\n",
       "      <th>Unnamed: 0</th>\n",
       "      <th>listing_id</th>\n",
       "      <th>id</th>\n",
       "      <th>date</th>\n",
       "      <th>reviewer_id</th>\n",
       "      <th>reviewer_name</th>\n",
       "      <th>comments</th>\n",
       "      <th>rating</th>\n",
       "    </tr>\n",
       "  </thead>\n",
       "  <tbody>\n",
       "    <tr>\n",
       "      <th>0</th>\n",
       "      <td>0</td>\n",
       "      <td>2384.0</td>\n",
       "      <td>25218143.0</td>\n",
       "      <td>1/9/2015</td>\n",
       "      <td>14385014</td>\n",
       "      <td>Ivan</td>\n",
       "      <td>ok nothing special charge diamond member hilto...</td>\n",
       "      <td>2</td>\n",
       "    </tr>\n",
       "    <tr>\n",
       "      <th>1</th>\n",
       "      <td>1</td>\n",
       "      <td>2384.0</td>\n",
       "      <td>28475392.0</td>\n",
       "      <td>3/24/2015</td>\n",
       "      <td>16241178</td>\n",
       "      <td>Namhaitou</td>\n",
       "      <td>nice rooms not 4* experience hotel monaco seat...</td>\n",
       "      <td>3</td>\n",
       "    </tr>\n",
       "    <tr>\n",
       "      <th>2</th>\n",
       "      <td>2</td>\n",
       "      <td>189821.0</td>\n",
       "      <td>536083.0</td>\n",
       "      <td>9/16/2011</td>\n",
       "      <td>124036</td>\n",
       "      <td>Jenny</td>\n",
       "      <td>unique, great stay, wonderful time hotel monac...</td>\n",
       "      <td>5</td>\n",
       "    </tr>\n",
       "    <tr>\n",
       "      <th>3</th>\n",
       "      <td>3</td>\n",
       "      <td>189821.0</td>\n",
       "      <td>550149.0</td>\n",
       "      <td>9/20/2011</td>\n",
       "      <td>911939</td>\n",
       "      <td>Bonnie</td>\n",
       "      <td>great stay great stay, went seahawk game aweso...</td>\n",
       "      <td>5</td>\n",
       "    </tr>\n",
       "    <tr>\n",
       "      <th>4</th>\n",
       "      <td>4</td>\n",
       "      <td>189821.0</td>\n",
       "      <td>577757.0</td>\n",
       "      <td>9/28/2011</td>\n",
       "      <td>938072</td>\n",
       "      <td>Lauren</td>\n",
       "      <td>love monaco staff husband stayed hotel crazy w...</td>\n",
       "      <td>5</td>\n",
       "    </tr>\n",
       "  </tbody>\n",
       "</table>\n",
       "</div>"
      ],
      "text/plain": [
       "   Unnamed: 0  listing_id          id       date  reviewer_id reviewer_name  \\\n",
       "0           0      2384.0  25218143.0   1/9/2015     14385014          Ivan   \n",
       "1           1      2384.0  28475392.0  3/24/2015     16241178     Namhaitou   \n",
       "2           2    189821.0    536083.0  9/16/2011       124036         Jenny   \n",
       "3           3    189821.0    550149.0  9/20/2011       911939        Bonnie   \n",
       "4           4    189821.0    577757.0  9/28/2011       938072        Lauren   \n",
       "\n",
       "                                            comments  rating  \n",
       "0  ok nothing special charge diamond member hilto...       2  \n",
       "1  nice rooms not 4* experience hotel monaco seat...       3  \n",
       "2  unique, great stay, wonderful time hotel monac...       5  \n",
       "3  great stay great stay, went seahawk game aweso...       5  \n",
       "4  love monaco staff husband stayed hotel crazy w...       5  "
      ]
     },
     "execution_count": 11,
     "metadata": {},
     "output_type": "execute_result"
    }
   ],
   "source": [
    "airbnb_reviews.head(5)"
   ]
  },
  {
   "cell_type": "code",
   "execution_count": 12,
   "id": "662bc792",
   "metadata": {},
   "outputs": [
    {
     "name": "stdout",
     "output_type": "stream",
     "text": [
      "<class 'pandas.core.frame.DataFrame'>\n",
      "RangeIndex: 343302 entries, 0 to 343301\n",
      "Data columns (total 8 columns):\n",
      " #   Column         Non-Null Count   Dtype  \n",
      "---  ------         --------------   -----  \n",
      " 0   Unnamed: 0     343302 non-null  int64  \n",
      " 1   listing_id     343302 non-null  float64\n",
      " 2   id             343302 non-null  object \n",
      " 3   date           343302 non-null  object \n",
      " 4   reviewer_id    343302 non-null  int64  \n",
      " 5   reviewer_name  343302 non-null  object \n",
      " 6   comments       343302 non-null  object \n",
      " 7   rating         343302 non-null  int64  \n",
      "dtypes: float64(1), int64(3), object(4)\n",
      "memory usage: 21.0+ MB\n"
     ]
    }
   ],
   "source": [
    "airbnb_reviews.info()"
   ]
  },
  {
   "cell_type": "code",
   "execution_count": 13,
   "id": "e6a11295",
   "metadata": {},
   "outputs": [
    {
     "data": {
      "text/plain": [
       "(343302, 8)"
      ]
     },
     "execution_count": 13,
     "metadata": {},
     "output_type": "execute_result"
    }
   ],
   "source": [
    "airbnb_reviews.shape"
   ]
  },
  {
   "cell_type": "code",
   "execution_count": 14,
   "id": "ed6f3bce",
   "metadata": {},
   "outputs": [],
   "source": [
    "airbnb_calendar_date = pd.read_csv(\"calendar.csv\")"
   ]
  },
  {
   "cell_type": "code",
   "execution_count": 16,
   "id": "8128542d",
   "metadata": {},
   "outputs": [],
   "source": [
    "airbnb_calendar = pd.read_csv(\"calendar.csv\")"
   ]
  },
  {
   "cell_type": "code",
   "execution_count": 17,
   "id": "49493cf5",
   "metadata": {},
   "outputs": [
    {
     "data": {
      "text/html": [
       "<div>\n",
       "<style scoped>\n",
       "    .dataframe tbody tr th:only-of-type {\n",
       "        vertical-align: middle;\n",
       "    }\n",
       "\n",
       "    .dataframe tbody tr th {\n",
       "        vertical-align: top;\n",
       "    }\n",
       "\n",
       "    .dataframe thead th {\n",
       "        text-align: right;\n",
       "    }\n",
       "</style>\n",
       "<table border=\"1\" class=\"dataframe\">\n",
       "  <thead>\n",
       "    <tr style=\"text-align: right;\">\n",
       "      <th></th>\n",
       "      <th>listing_id</th>\n",
       "      <th>date</th>\n",
       "      <th>available</th>\n",
       "      <th>price</th>\n",
       "      <th>adjusted_price</th>\n",
       "      <th>minimum_nights</th>\n",
       "      <th>maximum_nights</th>\n",
       "    </tr>\n",
       "  </thead>\n",
       "  <tbody>\n",
       "    <tr>\n",
       "      <th>0</th>\n",
       "      <td>2384</td>\n",
       "      <td>9/14/2022</td>\n",
       "      <td>t</td>\n",
       "      <td>$50.00</td>\n",
       "      <td>$50.00</td>\n",
       "      <td>3</td>\n",
       "      <td>1125</td>\n",
       "    </tr>\n",
       "    <tr>\n",
       "      <th>1</th>\n",
       "      <td>2384</td>\n",
       "      <td>9/15/2022</td>\n",
       "      <td>f</td>\n",
       "      <td>$125.00</td>\n",
       "      <td>$125.00</td>\n",
       "      <td>3</td>\n",
       "      <td>1125</td>\n",
       "    </tr>\n",
       "    <tr>\n",
       "      <th>2</th>\n",
       "      <td>2384</td>\n",
       "      <td>9/16/2022</td>\n",
       "      <td>f</td>\n",
       "      <td>$125.00</td>\n",
       "      <td>$125.00</td>\n",
       "      <td>3</td>\n",
       "      <td>1125</td>\n",
       "    </tr>\n",
       "    <tr>\n",
       "      <th>3</th>\n",
       "      <td>2384</td>\n",
       "      <td>9/17/2022</td>\n",
       "      <td>f</td>\n",
       "      <td>$125.00</td>\n",
       "      <td>$125.00</td>\n",
       "      <td>3</td>\n",
       "      <td>1125</td>\n",
       "    </tr>\n",
       "    <tr>\n",
       "      <th>4</th>\n",
       "      <td>2384</td>\n",
       "      <td>9/18/2022</td>\n",
       "      <td>t</td>\n",
       "      <td>$115.00</td>\n",
       "      <td>$115.00</td>\n",
       "      <td>3</td>\n",
       "      <td>1125</td>\n",
       "    </tr>\n",
       "  </tbody>\n",
       "</table>\n",
       "</div>"
      ],
      "text/plain": [
       "   listing_id       date available     price adjusted_price  minimum_nights  \\\n",
       "0        2384  9/14/2022         t   $50.00         $50.00                3   \n",
       "1        2384  9/15/2022         f  $125.00        $125.00                3   \n",
       "2        2384  9/16/2022         f  $125.00        $125.00                3   \n",
       "3        2384  9/17/2022         f  $125.00        $125.00                3   \n",
       "4        2384  9/18/2022         t  $115.00        $115.00                3   \n",
       "\n",
       "   maximum_nights  \n",
       "0            1125  \n",
       "1            1125  \n",
       "2            1125  \n",
       "3            1125  \n",
       "4            1125  "
      ]
     },
     "execution_count": 17,
     "metadata": {},
     "output_type": "execute_result"
    }
   ],
   "source": [
    "airbnb_calendar.head(5)"
   ]
  },
  {
   "cell_type": "code",
   "execution_count": 18,
   "id": "4793721b",
   "metadata": {},
   "outputs": [
    {
     "name": "stdout",
     "output_type": "stream",
     "text": [
      "<class 'pandas.core.frame.DataFrame'>\n",
      "RangeIndex: 1048575 entries, 0 to 1048574\n",
      "Data columns (total 7 columns):\n",
      " #   Column          Non-Null Count    Dtype \n",
      "---  ------          --------------    ----- \n",
      " 0   listing_id      1048575 non-null  int64 \n",
      " 1   date            1048575 non-null  object\n",
      " 2   available       1048575 non-null  object\n",
      " 3   price           1048575 non-null  object\n",
      " 4   adjusted_price  1048575 non-null  object\n",
      " 5   minimum_nights  1048575 non-null  int64 \n",
      " 6   maximum_nights  1048575 non-null  int64 \n",
      "dtypes: int64(3), object(4)\n",
      "memory usage: 56.0+ MB\n"
     ]
    }
   ],
   "source": [
    "airbnb_calendar.info()"
   ]
  },
  {
   "cell_type": "code",
   "execution_count": 19,
   "id": "db681b55",
   "metadata": {},
   "outputs": [
    {
     "data": {
      "text/plain": [
       "(1048575, 7)"
      ]
     },
     "execution_count": 19,
     "metadata": {},
     "output_type": "execute_result"
    }
   ],
   "source": [
    "airbnb_calendar.shape"
   ]
  },
  {
   "cell_type": "code",
   "execution_count": 20,
   "id": "b691fb40",
   "metadata": {},
   "outputs": [
    {
     "data": {
      "text/plain": [
       "Unnamed: 0       0\n",
       "listing_id       0\n",
       "id               0\n",
       "date             0\n",
       "reviewer_id      0\n",
       "reviewer_name    0\n",
       "comments         0\n",
       "rating           0\n",
       "dtype: int64"
      ]
     },
     "execution_count": 20,
     "metadata": {},
     "output_type": "execute_result"
    }
   ],
   "source": [
    "null = airbnb_reviews.isna().sum()\n",
    "null.sort_values(ascending=False)"
   ]
  },
  {
   "cell_type": "code",
   "execution_count": 21,
   "id": "58eabcac",
   "metadata": {},
   "outputs": [
    {
     "data": {
      "text/plain": [
       "Index(['id', 'listing_url', 'scrape_id', 'last_scraped', 'source', 'name',\n",
       "       'description', 'neighborhood_overview', 'picture_url', 'host_id',\n",
       "       'host_url', 'host_name', 'host_since', 'host_location', 'host_about',\n",
       "       'host_response_time', 'host_response_rate', 'host_acceptance_rate',\n",
       "       'host_is_superhost', 'host_thumbnail_url', 'host_picture_url',\n",
       "       'host_neighbourhood', 'host_listings_count',\n",
       "       'host_total_listings_count', 'host_verifications',\n",
       "       'host_has_profile_pic', 'host_identity_verified', 'neighbourhood',\n",
       "       'neighbourhood_cleansed', 'neighbourhood_group_cleansed', 'latitude',\n",
       "       'longitude', 'property_type', 'room_type', 'accommodates', 'bathrooms',\n",
       "       'bathrooms_text', 'bedrooms', 'beds', 'amenities', 'price',\n",
       "       'minimum_nights', 'maximum_nights', 'minimum_minimum_nights',\n",
       "       'maximum_minimum_nights', 'minimum_maximum_nights',\n",
       "       'maximum_maximum_nights', 'minimum_nights_avg_ntm',\n",
       "       'maximum_nights_avg_ntm', 'calendar_updated', 'has_availability',\n",
       "       'availability_30', 'availability_60', 'availability_90',\n",
       "       'availability_365', 'calendar_last_scraped', 'number_of_reviews',\n",
       "       'number_of_reviews_ltm', 'number_of_reviews_l30d', 'first_review',\n",
       "       'last_review', 'review_scores_rating', 'review_scores_accuracy',\n",
       "       'review_scores_cleanliness', 'review_scores_checkin',\n",
       "       'review_scores_communication', 'review_scores_location',\n",
       "       'review_scores_value', 'license', 'instant_bookable',\n",
       "       'calculated_host_listings_count',\n",
       "       'calculated_host_listings_count_entire_homes',\n",
       "       'calculated_host_listings_count_private_rooms',\n",
       "       'calculated_host_listings_count_shared_rooms', 'reviews_per_month'],\n",
       "      dtype='object')"
      ]
     },
     "execution_count": 21,
     "metadata": {},
     "output_type": "execute_result"
    }
   ],
   "source": [
    "airbnb_listings.columns"
   ]
  },
  {
   "cell_type": "code",
   "execution_count": null,
   "id": "7b87ec8b",
   "metadata": {},
   "outputs": [],
   "source": []
  },
  {
   "cell_type": "code",
   "execution_count": null,
   "id": "9c015dac",
   "metadata": {},
   "outputs": [],
   "source": []
  },
  {
   "cell_type": "code",
   "execution_count": null,
   "id": "53190b7b",
   "metadata": {},
   "outputs": [],
   "source": []
  },
  {
   "cell_type": "code",
   "execution_count": null,
   "id": "6b3a8ce7",
   "metadata": {},
   "outputs": [],
   "source": []
  },
  {
   "cell_type": "code",
   "execution_count": null,
   "id": "43c2b5ca",
   "metadata": {},
   "outputs": [],
   "source": []
  },
  {
   "cell_type": "code",
   "execution_count": null,
   "id": "8508d33d",
   "metadata": {},
   "outputs": [],
   "source": []
  },
  {
   "cell_type": "code",
   "execution_count": null,
   "id": "0a3c39f4",
   "metadata": {},
   "outputs": [],
   "source": []
  },
  {
   "cell_type": "code",
   "execution_count": null,
   "id": "f07c2ab8",
   "metadata": {},
   "outputs": [],
   "source": []
  },
  {
   "cell_type": "code",
   "execution_count": null,
   "id": "efedeaba",
   "metadata": {},
   "outputs": [],
   "source": []
  },
  {
   "cell_type": "code",
   "execution_count": null,
   "id": "4a76a62b",
   "metadata": {},
   "outputs": [],
   "source": []
  },
  {
   "cell_type": "code",
   "execution_count": null,
   "id": "6bccd03c",
   "metadata": {},
   "outputs": [],
   "source": []
  },
  {
   "cell_type": "code",
   "execution_count": null,
   "id": "75bb7060",
   "metadata": {},
   "outputs": [],
   "source": []
  },
  {
   "cell_type": "code",
   "execution_count": null,
   "id": "e7fb58ff",
   "metadata": {},
   "outputs": [],
   "source": []
  },
  {
   "cell_type": "code",
   "execution_count": null,
   "id": "48e775c7",
   "metadata": {},
   "outputs": [],
   "source": []
  },
  {
   "cell_type": "code",
   "execution_count": null,
   "id": "b5023b4a",
   "metadata": {},
   "outputs": [],
   "source": []
  },
  {
   "cell_type": "code",
   "execution_count": null,
   "id": "956b5b9c",
   "metadata": {},
   "outputs": [],
   "source": []
  },
  {
   "cell_type": "code",
   "execution_count": null,
   "id": "11d456a8",
   "metadata": {},
   "outputs": [],
   "source": []
  },
  {
   "cell_type": "code",
   "execution_count": null,
   "id": "0c895f3e",
   "metadata": {},
   "outputs": [],
   "source": []
  },
  {
   "cell_type": "code",
   "execution_count": null,
   "id": "446ed3a8",
   "metadata": {},
   "outputs": [],
   "source": []
  },
  {
   "cell_type": "code",
   "execution_count": null,
   "id": "fbe13236",
   "metadata": {},
   "outputs": [],
   "source": []
  },
  {
   "cell_type": "code",
   "execution_count": null,
   "id": "95f87703",
   "metadata": {},
   "outputs": [],
   "source": []
  },
  {
   "cell_type": "code",
   "execution_count": null,
   "id": "eb8553de",
   "metadata": {},
   "outputs": [],
   "source": []
  },
  {
   "cell_type": "code",
   "execution_count": null,
   "id": "27c01f42",
   "metadata": {},
   "outputs": [],
   "source": []
  },
  {
   "cell_type": "code",
   "execution_count": null,
   "id": "880b4f47",
   "metadata": {},
   "outputs": [],
   "source": []
  },
  {
   "cell_type": "code",
   "execution_count": null,
   "id": "60bb71f8",
   "metadata": {},
   "outputs": [],
   "source": []
  },
  {
   "cell_type": "code",
   "execution_count": null,
   "id": "2ca6901f",
   "metadata": {},
   "outputs": [],
   "source": []
  },
  {
   "cell_type": "code",
   "execution_count": null,
   "id": "3a08c1f1",
   "metadata": {},
   "outputs": [],
   "source": []
  },
  {
   "cell_type": "code",
   "execution_count": null,
   "id": "bfb829ce",
   "metadata": {},
   "outputs": [],
   "source": []
  },
  {
   "cell_type": "code",
   "execution_count": null,
   "id": "e995d309",
   "metadata": {},
   "outputs": [],
   "source": []
  },
  {
   "cell_type": "code",
   "execution_count": null,
   "id": "d32e0233",
   "metadata": {},
   "outputs": [],
   "source": []
  },
  {
   "cell_type": "code",
   "execution_count": null,
   "id": "92f32342",
   "metadata": {},
   "outputs": [],
   "source": []
  },
  {
   "cell_type": "code",
   "execution_count": null,
   "id": "07f368aa",
   "metadata": {},
   "outputs": [],
   "source": []
  },
  {
   "cell_type": "code",
   "execution_count": null,
   "id": "dd90b55a",
   "metadata": {},
   "outputs": [],
   "source": []
  },
  {
   "cell_type": "code",
   "execution_count": null,
   "id": "36c25aa0",
   "metadata": {},
   "outputs": [],
   "source": []
  },
  {
   "cell_type": "code",
   "execution_count": null,
   "id": "a10a6420",
   "metadata": {},
   "outputs": [],
   "source": []
  },
  {
   "cell_type": "code",
   "execution_count": null,
   "id": "7efd4303",
   "metadata": {},
   "outputs": [],
   "source": []
  },
  {
   "cell_type": "code",
   "execution_count": null,
   "id": "2fc203f1",
   "metadata": {},
   "outputs": [],
   "source": []
  },
  {
   "cell_type": "code",
   "execution_count": null,
   "id": "f587789b",
   "metadata": {},
   "outputs": [],
   "source": []
  },
  {
   "cell_type": "code",
   "execution_count": null,
   "id": "535f1ed8",
   "metadata": {},
   "outputs": [],
   "source": []
  },
  {
   "cell_type": "code",
   "execution_count": null,
   "id": "c12ffb8c",
   "metadata": {},
   "outputs": [],
   "source": []
  },
  {
   "cell_type": "code",
   "execution_count": null,
   "id": "a5724396",
   "metadata": {},
   "outputs": [],
   "source": []
  },
  {
   "cell_type": "code",
   "execution_count": null,
   "id": "95b04ba2",
   "metadata": {},
   "outputs": [],
   "source": []
  },
  {
   "cell_type": "code",
   "execution_count": null,
   "id": "045d2e4c",
   "metadata": {},
   "outputs": [],
   "source": []
  },
  {
   "cell_type": "code",
   "execution_count": null,
   "id": "5c272a60",
   "metadata": {},
   "outputs": [],
   "source": []
  },
  {
   "cell_type": "code",
   "execution_count": null,
   "id": "19c67083",
   "metadata": {},
   "outputs": [],
   "source": []
  },
  {
   "cell_type": "code",
   "execution_count": null,
   "id": "3095de6a",
   "metadata": {},
   "outputs": [],
   "source": []
  },
  {
   "cell_type": "code",
   "execution_count": null,
   "id": "23abeea8",
   "metadata": {},
   "outputs": [],
   "source": []
  }
 ],
 "metadata": {
  "kernelspec": {
   "display_name": "Python 3 (ipykernel)",
   "language": "python",
   "name": "python3"
  },
  "language_info": {
   "codemirror_mode": {
    "name": "ipython",
    "version": 3
   },
   "file_extension": ".py",
   "mimetype": "text/x-python",
   "name": "python",
   "nbconvert_exporter": "python",
   "pygments_lexer": "ipython3",
   "version": "3.9.12"
  }
 },
 "nbformat": 4,
 "nbformat_minor": 5
}
