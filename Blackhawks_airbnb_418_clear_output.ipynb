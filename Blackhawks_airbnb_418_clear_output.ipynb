{
 "cells": [
  {
   "cell_type": "markdown",
   "id": "240c1431",
   "metadata": {},
   "source": [
    "Google Drive Link: https://drive.google.com/file/d/1TL6NHkO4Xz11Cez8EJiYfDn6vNiOm92L/view?usp=sharing"
   ]
  },
  {
   "cell_type": "markdown",
   "id": "9e541c26",
   "metadata": {},
   "source": [
    "## Project Overview\n",
    "\n",
    "Airbnb is an online marketplace for short-term home and apartment rentals. It allows you to, to rent out your home for a week while you’re away, or rent out your empty house/bedroom to have a peacful and quality vacation.\n",
    "The challenge is that Airbnb hosts face is determining the optimal nightly rent price. In many areas, renters are presented with a good selection of listings and can filter by criteria like price, number of bedrooms, room type, and more.\n",
    "\n",
    "#### The target population of interest\n",
    "\n",
    "This project helps the hosts at Airbnb in providing the proper listings on their webiste according to the seasons and helping them to improve the chance of their place getting booked with the more appropriate price.\n",
    "\n",
    "#### Aim of the Project\n",
    "The aim of this project is to answer the below questions\n",
    "1. Predict rental prices and influential features of Airbnb.\n",
    "2. Sentiment Analysis on Reviews of Airbnb which can impact on customer decision.\n",
    "3. Top amenities that are essential to Airbnb and that customers expect.\n",
    "4. Predicting future price trends for various seasons.\n",
    "\n",
    "#### Innovativeness of the project\n",
    "\n",
    "We not only tend to answer the above questions, but also answer by visualizing the following the questions:\n",
    "<p>1. What is the season pattern of Airbnb in Chicago?<br>\n",
    "2. What kinds of Airbnb homes are popular?<br>\n",
    "3. What factors of the rental price have the most impact?</p>\n",
    "\n",
    "#### Is the Data Already Available?\n",
    "\n",
    "Airbnb does not release any data on the listings in its marketplace, but a separate group named Inside Airbnb scrapes and compiles publicly available information about many cities Airbnb's listings from the Airbnb web-site. For this project, their data set scraped on September 11, 2021, on the city of Chicago, Illinois, is used. It contains information on all Chicago Airbnb listings that were live on the site on that date (over 7400)\n",
    "\n",
    "Dataset Link: http://insideairbnb.com/chicago"
   ]
  },
  {
   "cell_type": "markdown",
   "id": "3b8874dd",
   "metadata": {},
   "source": [
    "## Any changes\n",
    "<p>The scope of the project remains the same i.e. to predict the rental prices and answer the questions such as seasonal pattern of Airbnb in Chicago, kind of homes which are popular and most infulential features about the rental price.</p>"
   ]
  },
  {
   "cell_type": "markdown",
   "id": "67d6e8ec",
   "metadata": {},
   "source": []
  },
  {
   "cell_type": "code",
   "execution_count": null,
   "id": "6b4f0ca5",
   "metadata": {},
   "outputs": [],
   "source": [
    "import pandas as pd"
   ]
  },
  {
   "cell_type": "code",
   "execution_count": null,
   "id": "a2b4edfa",
   "metadata": {},
   "outputs": [],
   "source": [
    "airbnb_listings = pd.read_csv('listings.csv')"
   ]
  },
  {
   "cell_type": "code",
   "execution_count": null,
   "id": "da01e87d",
   "metadata": {},
   "outputs": [],
   "source": [
    "airbnb_listings.head(5)"
   ]
  },
  {
   "cell_type": "code",
   "execution_count": null,
   "id": "6ce9ae45",
   "metadata": {},
   "outputs": [],
   "source": [
    "airbnb_listings.info()"
   ]
  },
  {
   "cell_type": "code",
   "execution_count": null,
   "id": "01613e03",
   "metadata": {},
   "outputs": [],
   "source": [
    "airbnb_listings.shape"
   ]
  },
  {
   "cell_type": "code",
   "execution_count": null,
   "id": "9e329b7b",
   "metadata": {},
   "outputs": [],
   "source": [
    "airbnb_reviews = pd.read_csv(\"reviews.csv\")"
   ]
  },
  {
   "cell_type": "code",
   "execution_count": null,
   "id": "191d2e36",
   "metadata": {},
   "outputs": [],
   "source": [
    "airbnb_reviews.head(5)"
   ]
  },
  {
   "cell_type": "code",
   "execution_count": null,
   "id": "c3997a7b",
   "metadata": {},
   "outputs": [],
   "source": [
    "airbnb_reviews.info()"
   ]
  },
  {
   "cell_type": "code",
   "execution_count": null,
   "id": "fc3e2253",
   "metadata": {},
   "outputs": [],
   "source": [
    "airbnb_reviews.shape"
   ]
  },
  {
   "cell_type": "code",
   "execution_count": null,
   "id": "5c667325",
   "metadata": {},
   "outputs": [],
   "source": [
    "airbnb_calendar_date = pd.read_csv(\"calendar.csv\")"
   ]
  },
  {
   "cell_type": "code",
   "execution_count": null,
   "id": "933e0b40",
   "metadata": {},
   "outputs": [],
   "source": [
    "airbnb_calendar = pd.read_csv(\"calendar.csv\")"
   ]
  },
  {
   "cell_type": "code",
   "execution_count": null,
   "id": "cbabdf8b",
   "metadata": {},
   "outputs": [],
   "source": [
    "airbnb_calendar.head(5)"
   ]
  },
  {
   "cell_type": "code",
   "execution_count": null,
   "id": "67a768b2",
   "metadata": {},
   "outputs": [],
   "source": [
    "airbnb_calendar.info()"
   ]
  },
  {
   "cell_type": "code",
   "execution_count": null,
   "id": "8d2957f8",
   "metadata": {},
   "outputs": [],
   "source": [
    "airbnb_calendar.shape"
   ]
  },
  {
   "cell_type": "code",
   "execution_count": null,
   "id": "7862b563",
   "metadata": {},
   "outputs": [],
   "source": [
    "null = airbnb_reviews.isna().sum()\n",
    "null.sort_values(ascending=False)"
   ]
  },
  {
   "cell_type": "code",
   "execution_count": null,
   "id": "e8b9c9e0",
   "metadata": {},
   "outputs": [],
   "source": [
    "airbnb_listings.columns"
   ]
  },
  {
   "cell_type": "markdown",
   "id": "36435b23",
   "metadata": {},
   "source": [
    "## Data Cleaning and Pre-Processing"
   ]
  },
  {
   "cell_type": "code",
   "execution_count": null,
   "id": "db852487",
   "metadata": {},
   "outputs": [],
   "source": [
    "airbnb_listings.isna().sum().sort_values(ascending=False)"
   ]
  },
  {
   "cell_type": "code",
   "execution_count": null,
   "id": "0bb0a087",
   "metadata": {},
   "outputs": [],
   "source": [
    "def dropping_column(data, col_name): \n",
    "    new_data = data.drop(col_name, axis=1)\n",
    "    print('Dropping {}...'.format(col_name))\n",
    "    return new_data"
   ]
  },
  {
   "cell_type": "markdown",
   "id": "e052be6c",
   "metadata": {},
   "source": [
    "STEP 1: Dropping Useless Features\n",
    "There are some kinds of useless data:\n",
    "\n",
    "->not informative: id, url, name...\n",
    "\n",
    "->although informative, but hard to deal with: text, latitude, longitude...\n",
    "\n",
    "->values are identical: city, state...\n",
    "\n",
    "->values are redundent: listing count, avaliability...\n",
    "\n",
    "->not inner features: price, reveiw...\n"
   ]
  },
  {
   "cell_type": "code",
   "execution_count": null,
   "id": "41e4bbd6",
   "metadata": {},
   "outputs": [],
   "source": [
    "airbnb_listings_clean = dropping_column(airbnb_listings, 'host_verifications') \n",
    "for col_name in airbnb_listings_clean.columns:\n",
    "    if 'id' in col_name:\n",
    "        airbnb_listings_clean=dropping_column(airbnb_listings_clean, col_name)\n",
    "    if 'url' in col_name:\n",
    "        airbnb_listings_clean=dropping_column(airbnb_listings_clean, col_name)\n",
    "    if 'name' in col_name:\n",
    "        airbnb_listings_clean=dropping_column(airbnb_listings_clean, col_name)"
   ]
  },
  {
   "cell_type": "code",
   "execution_count": null,
   "id": "d6587911",
   "metadata": {},
   "outputs": [],
   "source": [
    "airbnb_listings_clean = dropping_column(airbnb_listings_clean, 'host_listings_count')\n",
    "airbnb_listings_clean = dropping_column(airbnb_listings_clean, 'host_total_listings_count')"
   ]
  },
  {
   "cell_type": "markdown",
   "id": "ad7dae9a",
   "metadata": {},
   "source": [
    "Dropping text columns which are informative but hard to deal with and arent necessary"
   ]
  },
  {
   "cell_type": "code",
   "execution_count": null,
   "id": "6c45f8df",
   "metadata": {},
   "outputs": [],
   "source": [
    "airbnb_listings_clean = dropping_column(airbnb_listings_clean, 'description')\n",
    "airbnb_listings_clean = dropping_column(airbnb_listings_clean, 'neighborhood_overview')\n",
    "airbnb_listings_clean = dropping_column(airbnb_listings_clean, 'host_about')"
   ]
  },
  {
   "cell_type": "markdown",
   "id": "b512adfa",
   "metadata": {},
   "source": [
    "We only need 'neighbourhood_cleansed' as feature of home location so other columns related to location can be removed"
   ]
  },
  {
   "cell_type": "code",
   "execution_count": null,
   "id": "66f4cda7",
   "metadata": {},
   "outputs": [],
   "source": [
    "airbnb_listings_clean = dropping_column(airbnb_listings_clean, 'neighbourhood')\n",
    "airbnb_listings_clean = dropping_column(airbnb_listings_clean, 'latitude')\n",
    "airbnb_listings_clean = dropping_column(airbnb_listings_clean, 'longitude')\n",
    "airbnb_listings_clean = dropping_column(airbnb_listings_clean, 'host_location')\n",
    "airbnb_listings_clean = dropping_column(airbnb_listings_clean, 'host_neighbourhood') \n",
    "airbnb_listings_clean = dropping_column(airbnb_listings_clean, 'license')\n",
    "airbnb_listings_clean = dropping_column(airbnb_listings_clean,'last_scraped')"
   ]
  },
  {
   "cell_type": "markdown",
   "id": "1ce9af52",
   "metadata": {},
   "source": [
    "Checking for duplicate rows and columns if any and removing them"
   ]
  },
  {
   "cell_type": "code",
   "execution_count": null,
   "id": "97488678",
   "metadata": {},
   "outputs": [],
   "source": [
    "airbnb_listings_clean = airbnb_listings_clean.loc[:,~airbnb_listings_clean.T.duplicated(keep='first')]\n",
    "airbnb_listings_clean.drop_duplicates()"
   ]
  },
  {
   "cell_type": "markdown",
   "id": "5d4eec43",
   "metadata": {},
   "source": [
    "Only keeping the annual availabilty and removing other availabilty columns"
   ]
  },
  {
   "cell_type": "code",
   "execution_count": null,
   "id": "7e4bbee3",
   "metadata": {},
   "outputs": [],
   "source": [
    "airbnb_listings_clean = dropping_column(airbnb_listings_clean, 'availability_30')\n",
    "airbnb_listings_clean = dropping_column(airbnb_listings_clean, 'availability_60')\n",
    "airbnb_listings_clean = dropping_column(airbnb_listings_clean, 'availability_90')"
   ]
  },
  {
   "cell_type": "markdown",
   "id": "63c6a175",
   "metadata": {},
   "source": [
    "Dropping some unecessary columns"
   ]
  },
  {
   "cell_type": "code",
   "execution_count": null,
   "id": "ffa590a9",
   "metadata": {},
   "outputs": [],
   "source": [
    "for column_name in airbnb_listings_clean.columns:\n",
    "    if len(airbnb_listings_clean[column_name].value_counts()) <= 1:\n",
    "        airbnb_listings_clean = dropping_column(airbnb_listings_clean, column_name)"
   ]
  },
  {
   "cell_type": "markdown",
   "id": "80665e0a",
   "metadata": {},
   "source": [
    "Dropping all the review columns"
   ]
  },
  {
   "cell_type": "code",
   "execution_count": null,
   "id": "e567b636",
   "metadata": {},
   "outputs": [],
   "source": [
    "for col_name in airbnb_listings_clean.columns:\n",
    "    if 'review' in col_name and col_name!='review_scores_rating':\n",
    "        airbnb_listings_clean = dropping_column(airbnb_listings_clean, col_name)"
   ]
  },
  {
   "cell_type": "markdown",
   "id": "1804a7f9",
   "metadata": {},
   "source": [
    "Dropping some columns which are not required"
   ]
  },
  {
   "cell_type": "code",
   "execution_count": null,
   "id": "80bed3df",
   "metadata": {},
   "outputs": [],
   "source": [
    "airbnb_listings_clean = dropping_column(airbnb_listings_clean, 'bathrooms_text')\n",
    "airbnb_listings_clean = dropping_column(airbnb_listings_clean, 'host_is_superhost')\n",
    "airbnb_listings_clean = dropping_column(airbnb_listings_clean, 'host_response_time')"
   ]
  },
  {
   "cell_type": "code",
   "execution_count": null,
   "id": "7297179e",
   "metadata": {},
   "outputs": [],
   "source": [
    "airbnb_listings_clean.hist(figsize=(20,20));"
   ]
  },
  {
   "cell_type": "markdown",
   "id": "70f7f503",
   "metadata": {},
   "source": [
    "### Analysing Missing Data"
   ]
  },
  {
   "cell_type": "code",
   "execution_count": null,
   "id": "cba16622",
   "metadata": {},
   "outputs": [],
   "source": [
    "import matplotlib.pyplot as plt\n",
    "null_values_percentage = airbnb_listings_clean.isnull().sum().sort_values(ascending=False) / len(airbnb_listings_clean)\n",
    "x = range(len(null_values_percentage[null_values_percentage != 0]))\n",
    "y = null_values_percentage[null_values_percentage != 0]\n",
    "\n",
    "plt.figure(figsize=(10,20))\n",
    "ax = plt.subplot()\n",
    "\n",
    "plt.gca().invert_yaxis()\n",
    "ax.set_yticks(range(len(null_values_percentage)))\n",
    "ax.set_yticklabels(null_values_percentage.index)\n",
    "\n",
    "plt.barh(x, y, color='y')\n",
    "plt.show()"
   ]
  },
  {
   "cell_type": "code",
   "execution_count": null,
   "id": "717e1742",
   "metadata": {},
   "outputs": [],
   "source": [
    "# Checking the missing data in rows\n",
    "airbnb_listings_clean['Missing_num'] = airbnb_listings_clean.isnull().sum(axis=1)\n",
    "print('{:.2f}% rows have no missing data.'.format(len(airbnb_listings_clean[airbnb_listings_clean['Missing_num']==0]) / len(airbnb_listings_clean) * 100))\n",
    "print('{:.2f}% rows have less than 1 missing data.'.format(len(airbnb_listings_clean[airbnb_listings_clean['Missing_num']<=1]) / len(airbnb_listings_clean) * 100))\n",
    "print('{:.2f}% rows have less than 2 missing data.'.format(len(airbnb_listings_clean[airbnb_listings_clean['Missing_num']<=2]) / len(airbnb_listings_clean) * 100))\n",
    "print('{:.2f}% rows have less than 3 missing data.'.format(len(airbnb_listings_clean[airbnb_listings_clean['Missing_num']<=3]) / len(airbnb_listings_clean) * 100))\n",
    "print('{:.2f}% rows have less than 4 missing data.'.format(len(airbnb_listings_clean[airbnb_listings_clean['Missing_num']<=4]) / len(airbnb_listings_clean) * 100))\n",
    "print('{:.2f}% rows have less than 5 missing data.'.format(len(airbnb_listings_clean[airbnb_listings_clean['Missing_num']<=5]) / len(airbnb_listings_clean) * 100))\n",
    "print('{:.2f}% rows have less than 6 missing data.'.format(len(airbnb_listings_clean[airbnb_listings_clean['Missing_num']<=6]) / len(airbnb_listings_clean) * 100))\n",
    "print('{:.2f}% rows have less than 7 missing data.'.format(len(airbnb_listings_clean[airbnb_listings_clean['Missing_num']<=7]) / len(airbnb_listings_clean) * 100))\n",
    "print('{:.2f}% rows have less than 8 missing data.'.format(len(airbnb_listings_clean[airbnb_listings_clean['Missing_num']<=8]) / len(airbnb_listings_clean) * 100))\n",
    "print('{:.2f}% rows have less than 9 missing data.'.format(len(airbnb_listings_clean[airbnb_listings_clean['Missing_num']<=9]) / len(airbnb_listings_clean) * 100))\n",
    "print('{:.2f}% rows have less than 10 missing data.'.format(len(airbnb_listings_clean[airbnb_listings_clean['Missing_num']<=10]) / len(airbnb_listings_clean) * 100))"
   ]
  },
  {
   "cell_type": "code",
   "execution_count": null,
   "id": "44d784c8",
   "metadata": {},
   "outputs": [],
   "source": [
    "#Distribution of missing data in rows\n",
    "plt.figure(figsize=(16,8))\n",
    "plt.xticks(range(50))\n",
    "airbnb_listings_clean['Missing_num'].plot.hist(color='b', alpha=0.5, bins=50)\n",
    "plt.show()"
   ]
  },
  {
   "cell_type": "markdown",
   "id": "0879f118",
   "metadata": {},
   "source": [
    "We calculate the percentage of the null values in each column and set a threshold “4” and drop them."
   ]
  },
  {
   "cell_type": "code",
   "execution_count": null,
   "id": "aa5de696",
   "metadata": {},
   "outputs": [],
   "source": [
    "# dropping rows which have more than 4 missing values\n",
    "missing_threshold = 4\n",
    "airbnb_listings_clean = airbnb_listings_clean[airbnb_listings_clean['Missing_num']<=missing_threshold].drop('Missing_num', axis = 1)"
   ]
  },
  {
   "cell_type": "code",
   "execution_count": null,
   "id": "bb520c66",
   "metadata": {},
   "outputs": [],
   "source": [
    "airbnb_listings_clean.shape"
   ]
  },
  {
   "cell_type": "markdown",
   "id": "28d78456",
   "metadata": {},
   "source": [
    "## Checking for NAN values"
   ]
  },
  {
   "cell_type": "code",
   "execution_count": null,
   "id": "2ff7eef5",
   "metadata": {},
   "outputs": [],
   "source": [
    "airbnb_listings_clean.isnull().sum().sum()"
   ]
  },
  {
   "cell_type": "code",
   "execution_count": null,
   "id": "3f26e01a",
   "metadata": {},
   "outputs": [],
   "source": [
    "airbnb_listings_clean.isnull().sum()"
   ]
  },
  {
   "cell_type": "code",
   "execution_count": null,
   "id": "e1346e8b",
   "metadata": {},
   "outputs": [],
   "source": [
    "airbnb_listings_clean.info()"
   ]
  },
  {
   "cell_type": "code",
   "execution_count": null,
   "id": "8245b69b",
   "metadata": {},
   "outputs": [],
   "source": [
    "import numpy as np"
   ]
  },
  {
   "cell_type": "markdown",
   "id": "8a75b806",
   "metadata": {},
   "source": [
    "Converting the data from string to float type"
   ]
  },
  {
   "cell_type": "code",
   "execution_count": null,
   "id": "09250511",
   "metadata": {},
   "outputs": [],
   "source": [
    "airbnb_listings_clean['price'] = airbnb_listings_clean['price'].map(lambda price: float(price[1:].replace(',', '')), na_action='ignore')\n",
    "airbnb_listings_clean['host_response_rate'] = airbnb_listings_clean['host_response_rate'].map(lambda rate: np.float(rate[:-1]) / 100, na_action='ignore')\n",
    "airbnb_listings_clean['host_acceptance_rate'] = airbnb_listings_clean['host_acceptance_rate'].map(lambda rate: np.float(rate[:-1]) / 100, na_action='ignore')"
   ]
  },
  {
   "cell_type": "code",
   "execution_count": null,
   "id": "7206bb4b",
   "metadata": {},
   "outputs": [],
   "source": [
    "airbnb_listings_clean['host_response_rate'].fillna(airbnb_listings_clean['host_response_rate'].median(), inplace=True)\n",
    "airbnb_listings_clean['bedrooms'].fillna(airbnb_listings_clean['bedrooms'].median(), inplace=True)\n",
    "airbnb_listings_clean['beds'].fillna(airbnb_listings_clean['beds'].median(), inplace=True)\n",
    "airbnb_listings_clean['host_acceptance_rate'].fillna(airbnb_listings_clean['host_acceptance_rate'].median(), inplace=True)\n",
    "airbnb_listings_clean['review_scores_rating'].fillna(airbnb_listings_clean['review_scores_rating'].median(), inplace=True)"
   ]
  },
  {
   "cell_type": "code",
   "execution_count": null,
   "id": "0e306147",
   "metadata": {},
   "outputs": [],
   "source": [
    "airbnb_listings_dataset = airbnb_listings_clean"
   ]
  },
  {
   "cell_type": "code",
   "execution_count": null,
   "id": "e1b88ab1",
   "metadata": {},
   "outputs": [],
   "source": [
    "airbnb_listings_clean.isnull().sum()"
   ]
  },
  {
   "cell_type": "code",
   "execution_count": null,
   "id": "a0cbbcfe",
   "metadata": {},
   "outputs": [],
   "source": [
    "airbnb_listings_clean.dtypes"
   ]
  },
  {
   "cell_type": "markdown",
   "id": "106c91c0",
   "metadata": {},
   "source": [
    "## Handling Outliers using Box-Plot"
   ]
  },
  {
   "cell_type": "markdown",
   "id": "bebd574e",
   "metadata": {},
   "source": [
    "#### Accommodates column"
   ]
  },
  {
   "cell_type": "code",
   "execution_count": null,
   "id": "c80de449",
   "metadata": {},
   "outputs": [],
   "source": [
    "import seaborn as sns\n",
    "sns.boxplot( x = 'accommodates', data =airbnb_listings_clean)\n",
    "sns.set(rc={\"figure.figsize\":(10, 8)})"
   ]
  },
  {
   "cell_type": "markdown",
   "id": "7cbb7136",
   "metadata": {},
   "source": [
    " As you can see there are outliers being plotted in the box plot, so now we handle the outliers by replacing the outliers with the upper limit and lower limit"
   ]
  },
  {
   "cell_type": "code",
   "execution_count": null,
   "id": "335635ee",
   "metadata": {},
   "outputs": [],
   "source": [
    "outliers = []\n",
    "\n",
    "dat = sorted(airbnb_listings_clean['accommodates'])\n",
    "q1 = np.percentile(dat, 25)\n",
    "q3 = np.percentile(dat, 75)\n",
    "IQR = q3-q1\n",
    "lower_limit = q1-(1.5*IQR)\n",
    "upper_limit = q3+(1.5*IQR)\n",
    "\n",
    "airbnb_listings_clean['accommodates'] = np.where(airbnb_listings_clean['accommodates']> upper_limit, upper_limit,\n",
    "                        np.where(airbnb_listings_clean['accommodates']< lower_limit, lower_limit,\n",
    "                          airbnb_listings_clean['accommodates']))"
   ]
  },
  {
   "cell_type": "code",
   "execution_count": null,
   "id": "7ccb6639",
   "metadata": {},
   "outputs": [],
   "source": [
    "sns.boxplot( x = 'accommodates', data =airbnb_listings_clean)\n",
    "sns.set(rc={\"figure.figsize\":(10, 8)})"
   ]
  },
  {
   "cell_type": "markdown",
   "id": "74f94b01",
   "metadata": {},
   "source": [
    "#### Bedrooms"
   ]
  },
  {
   "cell_type": "code",
   "execution_count": null,
   "id": "304d1784",
   "metadata": {},
   "outputs": [],
   "source": [
    "sns.boxplot( x = 'bedrooms', data =airbnb_listings_clean)\n",
    "sns.set(rc={\"figure.figsize\":(10, 8)})"
   ]
  },
  {
   "cell_type": "code",
   "execution_count": null,
   "id": "d5001eef",
   "metadata": {},
   "outputs": [],
   "source": [
    "outliers = []\n",
    "\n",
    "dat = sorted(airbnb_listings_clean['bedrooms'])\n",
    "q1 = np.percentile(dat, 25)\n",
    "q3 = np.percentile(dat, 75)\n",
    "IQR = q3-q1\n",
    "lower_limit = q1-(1.5*IQR)\n",
    "upper_limit = q3+(1.5*IQR)\n",
    "\n",
    "airbnb_listings_clean['bedrooms'] = np.where(airbnb_listings_clean['bedrooms']> upper_limit, upper_limit,\n",
    "                        np.where(airbnb_listings_clean['bedrooms']< lower_limit, lower_limit,\n",
    "                          airbnb_listings_clean['bedrooms']))"
   ]
  },
  {
   "cell_type": "code",
   "execution_count": null,
   "id": "0036fd6e",
   "metadata": {},
   "outputs": [],
   "source": [
    "sns.boxplot( x = 'bedrooms', data =airbnb_listings_clean)\n",
    "sns.set(rc={\"figure.figsize\":(10, 8)})"
   ]
  },
  {
   "cell_type": "markdown",
   "id": "e5eb7003",
   "metadata": {},
   "source": [
    "#### Beds"
   ]
  },
  {
   "cell_type": "code",
   "execution_count": null,
   "id": "9f2877f2",
   "metadata": {},
   "outputs": [],
   "source": [
    "sns.boxplot( x = 'beds', data =airbnb_listings_clean)\n",
    "sns.set(rc={\"figure.figsize\":(10, 8)})"
   ]
  },
  {
   "cell_type": "code",
   "execution_count": null,
   "id": "bc0eb0c7",
   "metadata": {},
   "outputs": [],
   "source": [
    "outliers = []\n",
    "\n",
    "dat = sorted(airbnb_listings_clean['beds'])\n",
    "q1 = np.percentile(dat, 25)\n",
    "q3 = np.percentile(dat, 75)\n",
    "IQR = q3-q1\n",
    "lower_limit = q1-(1.5*IQR)\n",
    "upper_limit = q3+(1.5*IQR)\n",
    "\n",
    "airbnb_listings_clean['beds'] = np.where(airbnb_listings_clean['beds']> upper_limit, upper_limit,\n",
    "                        np.where(airbnb_listings_clean['beds']< lower_limit, lower_limit,\n",
    "                          airbnb_listings_clean['beds']))"
   ]
  },
  {
   "cell_type": "code",
   "execution_count": null,
   "id": "90227d85",
   "metadata": {},
   "outputs": [],
   "source": [
    "sns.boxplot( x = 'beds', data =airbnb_listings_clean)\n",
    "sns.set(rc={\"figure.figsize\":(10, 8)})"
   ]
  },
  {
   "cell_type": "markdown",
   "id": "f6fd7157",
   "metadata": {},
   "source": [
    "#### Price"
   ]
  },
  {
   "cell_type": "code",
   "execution_count": null,
   "id": "3ebc072a",
   "metadata": {},
   "outputs": [],
   "source": [
    "sns.boxplot( x = 'price', data =airbnb_listings_clean)\n",
    "sns.set(rc={\"figure.figsize\":(10, 8)})"
   ]
  },
  {
   "cell_type": "code",
   "execution_count": null,
   "id": "b2c0a433",
   "metadata": {},
   "outputs": [],
   "source": [
    "outliers = []\n",
    "\n",
    "dat = sorted(airbnb_listings_clean['price'])\n",
    "q1 = np.percentile(dat, 25)\n",
    "q3 = np.percentile(dat, 75)\n",
    "IQR = q3-q1\n",
    "lower_limit = q1-(1.5*IQR)\n",
    "upper_limit = q3+(1.5*IQR)\n",
    "\n",
    "airbnb_listings_clean['price'] = np.where(airbnb_listings_clean['price']> upper_limit, upper_limit,\n",
    "                        np.where(airbnb_listings_clean['price']< lower_limit, lower_limit,\n",
    "                          airbnb_listings_clean['price']))"
   ]
  },
  {
   "cell_type": "code",
   "execution_count": null,
   "id": "513addd7",
   "metadata": {},
   "outputs": [],
   "source": [
    "sns.boxplot( x = 'price', data =airbnb_listings_clean)\n",
    "sns.set(rc={\"figure.figsize\":(10, 8)})"
   ]
  },
  {
   "cell_type": "markdown",
   "id": "2e404ac3",
   "metadata": {},
   "source": [
    "#### calculated_host_listings_count"
   ]
  },
  {
   "cell_type": "code",
   "execution_count": null,
   "id": "e098af32",
   "metadata": {},
   "outputs": [],
   "source": [
    "sns.boxplot( x = 'calculated_host_listings_count', data =airbnb_listings_clean)\n",
    "sns.set(rc={\"figure.figsize\":(10, 8)})"
   ]
  },
  {
   "cell_type": "code",
   "execution_count": null,
   "id": "1c0afd79",
   "metadata": {},
   "outputs": [],
   "source": [
    "outliers = []\n",
    "\n",
    "dat = sorted(airbnb_listings_clean['calculated_host_listings_count'])\n",
    "q1 = np.percentile(dat, 25)\n",
    "q3 = np.percentile(dat, 75)\n",
    "IQR = q3-q1\n",
    "lower_limit = q1-(1.5*IQR)\n",
    "upper_limit = q3+(1.5*IQR)\n",
    "\n",
    "airbnb_listings_clean['calculated_host_listings_count'] = np.where(airbnb_listings_clean['calculated_host_listings_count']> upper_limit, upper_limit,\n",
    "                        np.where(airbnb_listings_clean['calculated_host_listings_count']< lower_limit, lower_limit,\n",
    "                          airbnb_listings_clean['calculated_host_listings_count']))"
   ]
  },
  {
   "cell_type": "code",
   "execution_count": null,
   "id": "700fa049",
   "metadata": {},
   "outputs": [],
   "source": [
    "sns.boxplot( x = 'calculated_host_listings_count', data =airbnb_listings_clean)\n",
    "sns.set(rc={\"figure.figsize\":(10, 8)})"
   ]
  },
  {
   "cell_type": "markdown",
   "id": "e8796c44",
   "metadata": {},
   "source": [
    "#### calculated_host_listings_count_entire_homes"
   ]
  },
  {
   "cell_type": "code",
   "execution_count": null,
   "id": "0ebcfd47",
   "metadata": {},
   "outputs": [],
   "source": [
    "sns.boxplot( x = 'calculated_host_listings_count_entire_homes', data =airbnb_listings_clean)\n",
    "sns.set(rc={\"figure.figsize\":(10, 8)})"
   ]
  },
  {
   "cell_type": "code",
   "execution_count": null,
   "id": "d9210440",
   "metadata": {},
   "outputs": [],
   "source": [
    "outliers = []\n",
    "\n",
    "dat = sorted(airbnb_listings_clean['calculated_host_listings_count_entire_homes'])\n",
    "q1 = np.percentile(dat, 25)\n",
    "q3 = np.percentile(dat, 75)\n",
    "IQR = q3-q1\n",
    "lower_limit = q1-(1.5*IQR)\n",
    "upper_limit = q3+(1.5*IQR)\n",
    "\n",
    "airbnb_listings_clean['calculated_host_listings_count_entire_homes'] = np.where(airbnb_listings_clean['calculated_host_listings_count_entire_homes']> upper_limit, upper_limit,\n",
    "                        np.where(airbnb_listings_clean['calculated_host_listings_count_entire_homes']< lower_limit, lower_limit,\n",
    "                          airbnb_listings_clean['calculated_host_listings_count_entire_homes']))"
   ]
  },
  {
   "cell_type": "code",
   "execution_count": null,
   "id": "53ee5d6b",
   "metadata": {},
   "outputs": [],
   "source": [
    "sns.boxplot( x = 'calculated_host_listings_count_entire_homes', data =airbnb_listings_clean)\n",
    "sns.set(rc={\"figure.figsize\":(10, 8)})"
   ]
  },
  {
   "cell_type": "markdown",
   "id": "9ba20d13",
   "metadata": {},
   "source": [
    "#### calculated_host_listings_count_private_rooms"
   ]
  },
  {
   "cell_type": "code",
   "execution_count": null,
   "id": "607732a6",
   "metadata": {},
   "outputs": [],
   "source": [
    "sns.boxplot( x = 'calculated_host_listings_count_private_rooms', data =airbnb_listings_clean)\n",
    "sns.set(rc={\"figure.figsize\":(10, 8)})"
   ]
  },
  {
   "cell_type": "code",
   "execution_count": null,
   "id": "5cd3b05a",
   "metadata": {},
   "outputs": [],
   "source": [
    "outliers = []\n",
    "\n",
    "dat = sorted(airbnb_listings_clean['calculated_host_listings_count_private_rooms'])\n",
    "q1 = np.percentile(dat, 25)\n",
    "q3 = np.percentile(dat, 75)\n",
    "IQR = q3-q1\n",
    "lower_limit = q1-(1.5*IQR)\n",
    "upper_limit = q3+(1.5*IQR)\n",
    "\n",
    "airbnb_listings_clean['calculated_host_listings_count_private_rooms'] = np.where(airbnb_listings_clean['calculated_host_listings_count_private_rooms']> upper_limit, upper_limit,\n",
    "                        np.where(airbnb_listings_clean['calculated_host_listings_count_private_rooms']< lower_limit, lower_limit,\n",
    "                          airbnb_listings_clean['calculated_host_listings_count_private_rooms']))"
   ]
  },
  {
   "cell_type": "code",
   "execution_count": null,
   "id": "458189a5",
   "metadata": {},
   "outputs": [],
   "source": [
    "sns.boxplot( x = 'calculated_host_listings_count_private_rooms', data =airbnb_listings_clean)\n",
    "sns.set(rc={\"figure.figsize\":(10, 8)})"
   ]
  },
  {
   "cell_type": "markdown",
   "id": "d7fd2e32",
   "metadata": {},
   "source": [
    "#### calculated_host_listings_count_shared_rooms"
   ]
  },
  {
   "cell_type": "code",
   "execution_count": null,
   "id": "c3533c06",
   "metadata": {},
   "outputs": [],
   "source": [
    "sns.boxplot( x = 'calculated_host_listings_count_shared_rooms', data =airbnb_listings_clean)\n",
    "sns.set(rc={\"figure.figsize\":(10, 8)})"
   ]
  },
  {
   "cell_type": "code",
   "execution_count": null,
   "id": "3f1a2b86",
   "metadata": {},
   "outputs": [],
   "source": [
    "outliers = []\n",
    "\n",
    "dat = sorted(airbnb_listings_clean['calculated_host_listings_count_shared_rooms'])\n",
    "q1 = np.percentile(dat, 25)\n",
    "q3 = np.percentile(dat, 75)\n",
    "IQR = q3-q1\n",
    "lower_limit = q1-(1.5*IQR)\n",
    "upper_limit = q3+(1.5*IQR)\n",
    "\n",
    "airbnb_listings_clean['calculated_host_listings_count_shared_rooms'] = np.where(airbnb_listings_clean['calculated_host_listings_count_shared_rooms']> upper_limit, upper_limit,\n",
    "                        np.where(airbnb_listings_clean['calculated_host_listings_count_shared_rooms']< lower_limit, lower_limit,\n",
    "                          airbnb_listings_clean['calculated_host_listings_count_shared_rooms']))"
   ]
  },
  {
   "cell_type": "code",
   "execution_count": null,
   "id": "54195685",
   "metadata": {},
   "outputs": [],
   "source": [
    "sns.boxplot( x = 'calculated_host_listings_count_shared_rooms', data =airbnb_listings_clean)\n",
    "sns.set(rc={\"figure.figsize\":(10, 8)})"
   ]
  },
  {
   "cell_type": "markdown",
   "id": "efd7945d",
   "metadata": {},
   "source": [
    "#### host_response_rate"
   ]
  },
  {
   "cell_type": "code",
   "execution_count": null,
   "id": "33e11169",
   "metadata": {},
   "outputs": [],
   "source": [
    "sns.boxplot( x = 'host_response_rate', data =airbnb_listings_clean)\n",
    "sns.set(rc={\"figure.figsize\":(10, 8)})"
   ]
  },
  {
   "cell_type": "code",
   "execution_count": null,
   "id": "ae993d6b",
   "metadata": {},
   "outputs": [],
   "source": [
    "outliers = []\n",
    "\n",
    "dat = sorted(airbnb_listings_clean['host_response_rate'])\n",
    "q1 = np.percentile(dat, 25)\n",
    "q3 = np.percentile(dat, 75)\n",
    "IQR = q3-q1\n",
    "lower_limit = q1-(1.5*IQR)\n",
    "upper_limit = q3+(1.5*IQR)\n",
    "\n",
    "airbnb_listings_clean['host_response_rate'] = np.where(airbnb_listings_clean['host_response_rate']> upper_limit, upper_limit,\n",
    "                        np.where(airbnb_listings_clean['host_response_rate']< lower_limit, lower_limit,\n",
    "                          airbnb_listings_clean['host_response_rate']))"
   ]
  },
  {
   "cell_type": "code",
   "execution_count": null,
   "id": "1a90b302",
   "metadata": {
    "scrolled": true
   },
   "outputs": [],
   "source": [
    "sns.boxplot( x = 'host_response_rate', data =airbnb_listings_clean)\n",
    "sns.set(rc={\"figure.figsize\":(10, 8)})"
   ]
  },
  {
   "cell_type": "markdown",
   "id": "0d08b6d4",
   "metadata": {},
   "source": [
    "#### host_acceptance_rate"
   ]
  },
  {
   "cell_type": "code",
   "execution_count": null,
   "id": "d7df9ca5",
   "metadata": {},
   "outputs": [],
   "source": [
    "sns.boxplot( x = 'host_acceptance_rate', data =airbnb_listings_clean)\n",
    "sns.set(rc={\"figure.figsize\":(10, 8)})"
   ]
  },
  {
   "cell_type": "code",
   "execution_count": null,
   "id": "176b5b40",
   "metadata": {},
   "outputs": [],
   "source": [
    "outliers = []\n",
    "\n",
    "dat = sorted(airbnb_listings_clean['host_acceptance_rate'])\n",
    "q1 = np.percentile(dat, 25)\n",
    "q3 = np.percentile(dat, 75)\n",
    "IQR = q3-q1\n",
    "lower_limit = q1-(1.5*IQR)\n",
    "upper_limit = q3+(1.5*IQR)\n",
    "\n",
    "airbnb_listings_clean['host_acceptance_rate'] = np.where(airbnb_listings_clean['host_acceptance_rate']> \n",
    "                                                         upper_limit, upper_limit,\n",
    "                        np.where(airbnb_listings_clean['host_acceptance_rate']< lower_limit, lower_limit,\n",
    "                          airbnb_listings_clean['host_acceptance_rate']))"
   ]
  },
  {
   "cell_type": "code",
   "execution_count": null,
   "id": "90f88f1e",
   "metadata": {},
   "outputs": [],
   "source": [
    "sns.boxplot( x = 'host_acceptance_rate', data =airbnb_listings_clean)\n",
    "sns.set(rc={\"figure.figsize\":(10, 8)})"
   ]
  },
  {
   "cell_type": "code",
   "execution_count": null,
   "id": "2e72f70a",
   "metadata": {},
   "outputs": [],
   "source": [
    "for col in airbnb_reviews:\n",
    "    print(col)"
   ]
  },
  {
   "cell_type": "code",
   "execution_count": null,
   "id": "a868d772",
   "metadata": {},
   "outputs": [],
   "source": [
    "airbnb_reviews.dtypes"
   ]
  },
  {
   "cell_type": "code",
   "execution_count": null,
   "id": "68ca2cca",
   "metadata": {},
   "outputs": [],
   "source": [
    "for col in airbnb_calendar:\n",
    "    print(col)"
   ]
  },
  {
   "cell_type": "code",
   "execution_count": null,
   "id": "c4ca59ab",
   "metadata": {},
   "outputs": [],
   "source": [
    "airbnb_calendar.dtypes"
   ]
  },
  {
   "cell_type": "code",
   "execution_count": null,
   "id": "d518d464",
   "metadata": {},
   "outputs": [],
   "source": [
    "airbnb_reviews.isna().sum().sort_values(ascending=False)"
   ]
  },
  {
   "cell_type": "markdown",
   "id": "e9ded66c",
   "metadata": {},
   "source": [
    "The airbnb_reviews dataset does not have any null or na values, so there is no need of cleaning the dataset."
   ]
  },
  {
   "cell_type": "code",
   "execution_count": null,
   "id": "5aa1aca6",
   "metadata": {},
   "outputs": [],
   "source": [
    "airbnb_calendar.isna().sum().sort_values(ascending=False)"
   ]
  },
  {
   "cell_type": "markdown",
   "id": "552b519a",
   "metadata": {},
   "source": [
    "The airbnb_calendar dataset does not have any null or na values, so there is no need of cleaning the dataset."
   ]
  },
  {
   "cell_type": "markdown",
   "id": "ffa6a91e",
   "metadata": {},
   "source": [
    "## Feature Encoding\n",
    "Feature encoding is the process of turning categorical data in a dataset into numerical data. One-Hot Encoding of features is used"
   ]
  },
  {
   "cell_type": "markdown",
   "id": "1d665ef8",
   "metadata": {},
   "source": [
    "Perfoming one-hot encoding on categorical data"
   ]
  },
  {
   "cell_type": "code",
   "execution_count": null,
   "id": "8233d08e",
   "metadata": {},
   "outputs": [],
   "source": [
    "def oneHot(feat, data):\n",
    "    print('Ecoding {} as one-hot..'.format(feat))\n",
    "    cur_dummies = pd.get_dummies(data[feat], prefix=feat)\n",
    "    data.drop(feat, axis=1, inplace=True)\n",
    "    data = pd.concat([data, cur_dummies], axis=1)\n",
    "    return data"
   ]
  },
  {
   "cell_type": "markdown",
   "id": "e2854e9b",
   "metadata": {},
   "source": [
    "Taking a look which columns are float.\n",
    "For categorical variables with small categories, encode them as one hot\n",
    "if categorical variables have many distinct values, we should be more careful"
   ]
  },
  {
   "cell_type": "code",
   "execution_count": null,
   "id": "e64f0696",
   "metadata": {},
   "outputs": [],
   "source": [
    "features = []\n",
    "conts = []\n",
    "for col_name in airbnb_listings_clean.columns:\n",
    "    if airbnb_listings_clean[col_name].dtype == np.float:\n",
    "        print('{} is a continous varibale'.format(col_name))\n",
    "        conts.append(col_name)\n",
    "    elif len(airbnb_listings_clean[col_name].value_counts()) <= 5:\n",
    "        data_clean = oneHot(col_name, airbnb_listings_clean)\n",
    "    else:\n",
    "        features.append(col_name)"
   ]
  },
  {
   "cell_type": "code",
   "execution_count": null,
   "id": "d6d52676",
   "metadata": {},
   "outputs": [],
   "source": [
    "#Printing continuous variables\n",
    "print(conts)"
   ]
  },
  {
   "cell_type": "code",
   "execution_count": null,
   "id": "dd277038",
   "metadata": {},
   "outputs": [],
   "source": [
    "#Variables we should look further more into \n",
    "print(features)"
   ]
  },
  {
   "cell_type": "code",
   "execution_count": null,
   "id": "1ac8ce80",
   "metadata": {},
   "outputs": [],
   "source": [
    "airbnb_listings_clean['host_since'].head()"
   ]
  },
  {
   "cell_type": "code",
   "execution_count": null,
   "id": "42912ca0",
   "metadata": {},
   "outputs": [],
   "source": [
    "airbnb_listings_clean['host_since'] = airbnb_listings_clean['host_since'].map(lambda date: 2022- int(date[-4:]), na_action='ignore')"
   ]
  },
  {
   "cell_type": "code",
   "execution_count": null,
   "id": "77c6bf74",
   "metadata": {},
   "outputs": [],
   "source": [
    "airbnb_listings_clean['host_since'].value_counts()"
   ]
  },
  {
   "cell_type": "code",
   "execution_count": null,
   "id": "94e74ad1",
   "metadata": {},
   "outputs": [],
   "source": [
    "airbnb_listings_clean = oneHot('host_since', airbnb_listings_clean)"
   ]
  },
  {
   "cell_type": "code",
   "execution_count": null,
   "id": "3aaf721e",
   "metadata": {},
   "outputs": [],
   "source": [
    "airbnb_listings_clean['neighbourhood_cleansed'].value_counts()"
   ]
  },
  {
   "cell_type": "code",
   "execution_count": null,
   "id": "2243ffb5",
   "metadata": {},
   "outputs": [],
   "source": [
    "airbnb_listings_clean = oneHot('neighbourhood_cleansed', airbnb_listings_clean)"
   ]
  },
  {
   "cell_type": "code",
   "execution_count": null,
   "id": "72f504f6",
   "metadata": {},
   "outputs": [],
   "source": [
    "airbnb_listings_clean['property_type'].value_counts()"
   ]
  },
  {
   "cell_type": "code",
   "execution_count": null,
   "id": "f7de0bb2",
   "metadata": {},
   "outputs": [],
   "source": [
    "airbnb_listings_clean = oneHot('property_type', airbnb_listings_clean)"
   ]
  },
  {
   "cell_type": "code",
   "execution_count": null,
   "id": "dd1ee67d",
   "metadata": {},
   "outputs": [],
   "source": [
    "airbnb_listings_clean['accommodates'].value_counts()"
   ]
  },
  {
   "cell_type": "code",
   "execution_count": null,
   "id": "9ce9aa8e",
   "metadata": {},
   "outputs": [],
   "source": [
    "airbnb_listings_clean = oneHot('accommodates', airbnb_listings_clean)"
   ]
  },
  {
   "cell_type": "code",
   "execution_count": null,
   "id": "67e1d5ef",
   "metadata": {},
   "outputs": [],
   "source": [
    "airbnb_listings_clean['amenities'][0]"
   ]
  },
  {
   "cell_type": "code",
   "execution_count": null,
   "id": "4aeb81d6",
   "metadata": {},
   "outputs": [],
   "source": [
    "amenities_list = list(data_clean.amenities)"
   ]
  },
  {
   "cell_type": "code",
   "execution_count": null,
   "id": "94ad8525",
   "metadata": {},
   "outputs": [],
   "source": [
    "amenities_list_string = \" \".join(amenities_list)"
   ]
  },
  {
   "cell_type": "code",
   "execution_count": null,
   "id": "83887c17",
   "metadata": {},
   "outputs": [],
   "source": [
    "amenities_list_string = amenities_list_string.replace('{', '')\n",
    "amenities_list_string = amenities_list_string.replace('}', ',')\n",
    "amenities_list_string = amenities_list_string.replace('[', '')\n",
    "amenities_list_string = amenities_list_string.replace(']', ',')\n",
    "amenities_list_string = amenities_list_string.replace('\"', '')\n",
    "amenities_list_string = amenities_list_string.replace(\"'\", \"\")\n",
    "amenities_set = [x.strip() for x in amenities_list_string.split(',')]"
   ]
  },
  {
   "cell_type": "code",
   "execution_count": null,
   "id": "78833ba6",
   "metadata": {},
   "outputs": [],
   "source": [
    "mydict = {}\n",
    "for word in amenities_set:\n",
    "    if word in mydict:\n",
    "        mydict[word] += 1\n",
    "    else:\n",
    "        mydict[word] = 1       "
   ]
  },
  {
   "cell_type": "code",
   "execution_count": null,
   "id": "4c8ffd1d",
   "metadata": {},
   "outputs": [],
   "source": [
    "threshold = 500\n",
    "A = {k:v for (k,v) in mydict.items() if v > threshold }\n",
    "A = list(A.keys())\n",
    "\n",
    "for a in A:\n",
    "    airbnb_listings_clean[a] = airbnb_listings_clean['amenities'].apply(lambda A: 1 if a in A else 0)\n",
    "airbnb_listings_clean = airbnb_listings_clean.drop(['amenities'],axis=1)"
   ]
  },
  {
   "cell_type": "code",
   "execution_count": null,
   "id": "ccf2ad01",
   "metadata": {},
   "outputs": [],
   "source": [
    "airbnb_listings_clean.describe()"
   ]
  },
  {
   "cell_type": "code",
   "execution_count": null,
   "id": "e114d1fc",
   "metadata": {},
   "outputs": [],
   "source": [
    "airbnb_listings_clean.dtypes"
   ]
  },
  {
   "cell_type": "markdown",
   "id": "6579c135",
   "metadata": {},
   "source": [
    "Re-encoding features"
   ]
  },
  {
   "cell_type": "markdown",
   "id": "2d85518e",
   "metadata": {},
   "source": [
    "## Fill Missing Values\n",
    "\n",
    "Few attributes still have missing values. Since all the columns having missing values are continuous, we can fill them with mean or median to impute it.We used median because it is more robust and free from the influence of outliers."
   ]
  },
  {
   "cell_type": "code",
   "execution_count": null,
   "id": "277ef0ae",
   "metadata": {},
   "outputs": [],
   "source": [
    "import seaborn as sns\n",
    "plt.figure(figsize=(20,20))\n",
    "sns.heatmap(data_clean.corr())\n",
    "plt.show()"
   ]
  },
  {
   "cell_type": "markdown",
   "id": "5bc20cd5",
   "metadata": {},
   "source": [
    "# Exploratory Data Analysis"
   ]
  },
  {
   "cell_type": "code",
   "execution_count": null,
   "id": "30cb76a0",
   "metadata": {},
   "outputs": [],
   "source": [
    "airbnb_calendar['date'] = pd.to_datetime(airbnb_calendar['date'])\n",
    "airbnb_calendar['price'] = airbnb_calendar['price'].str.replace(',', '')\n",
    "airbnb_calendar['price'] = airbnb_calendar['price'].str.replace('$', '')\n",
    "airbnb_calendar['price'] = airbnb_calendar['price'].astype(float)\n",
    "airbnb_calendar['date'] = pd.to_datetime(airbnb_calendar['date'])\n",
    "airbnb_calendar['date'] = airbnb_calendar['date'].dt.strftime('%B')"
   ]
  },
  {
   "cell_type": "code",
   "execution_count": null,
   "id": "fd2cc484",
   "metadata": {},
   "outputs": [],
   "source": [
    "import plotly.express as px"
   ]
  },
  {
   "cell_type": "code",
   "execution_count": null,
   "id": "c650e443",
   "metadata": {},
   "outputs": [],
   "source": [
    "airbnb_calendar.head()"
   ]
  },
  {
   "cell_type": "code",
   "execution_count": null,
   "id": "893a8475",
   "metadata": {},
   "outputs": [],
   "source": [
    "airbnb_calendar.rename(columns = {'date':'month'}, inplace = True)"
   ]
  },
  {
   "cell_type": "code",
   "execution_count": null,
   "id": "70eea3f4",
   "metadata": {},
   "outputs": [],
   "source": [
    "airbnb_calendar.head()"
   ]
  },
  {
   "cell_type": "code",
   "execution_count": null,
   "id": "5796bdcf",
   "metadata": {},
   "outputs": [],
   "source": [
    "temp=px.histogram(airbnb_calendar,x=\"month\", y=\"price\")\n",
    "temp.show()"
   ]
  },
  {
   "cell_type": "markdown",
   "id": "3bfa2a8a",
   "metadata": {},
   "source": [
    "From the above bar plot, we can say that sum of listing prices is maximum in the month of july and minimum in the month of february"
   ]
  },
  {
   "cell_type": "code",
   "execution_count": null,
   "id": "ad5dc029",
   "metadata": {},
   "outputs": [],
   "source": [
    "airbnb_calendar.head()"
   ]
  },
  {
   "cell_type": "code",
   "execution_count": null,
   "id": "35bb68ad",
   "metadata": {},
   "outputs": [],
   "source": [
    "airbnb_calendar_date['date'] = pd.to_datetime(airbnb_calendar_date['date'])\n",
    "airbnb_calendar_date['price'] = airbnb_calendar_date['price'].str.replace(',', '')\n",
    "airbnb_calendar_date['price'] = airbnb_calendar_date['price'].str.replace('$', '')\n",
    "airbnb_calendar_date['price'] = airbnb_calendar_date['price'].astype(float)\n",
    "airbnb_calendar_date['date'] = pd.to_datetime(airbnb_calendar_date['date'])\n",
    "airbnb_calendar_date['date'] = airbnb_calendar_date['date'].dt.strftime('%d')"
   ]
  },
  {
   "cell_type": "code",
   "execution_count": null,
   "id": "800a358f",
   "metadata": {},
   "outputs": [],
   "source": [
    "airbnb_calendar_date.head()"
   ]
  },
  {
   "cell_type": "code",
   "execution_count": null,
   "id": "e7d389dd",
   "metadata": {},
   "outputs": [],
   "source": [
    "temp=px.histogram(airbnb_calendar_date,x=\"date\", y=\"price\")\n",
    "temp.show()"
   ]
  },
  {
   "cell_type": "markdown",
   "id": "8b4034b1",
   "metadata": {},
   "source": [
    "The above bar plot shows that the sum of listing prices is lowest on the 31st day of the month."
   ]
  },
  {
   "cell_type": "code",
   "execution_count": null,
   "id": "adacf8c0",
   "metadata": {},
   "outputs": [],
   "source": [
    "airbnb_calendar = pd.read_csv(\"calendar.csv\")"
   ]
  },
  {
   "cell_type": "code",
   "execution_count": null,
   "id": "ff203d66",
   "metadata": {},
   "outputs": [],
   "source": [
    "for col in airbnb_calendar.columns:\n",
    "    print(col)"
   ]
  },
  {
   "cell_type": "code",
   "execution_count": null,
   "id": "dc611adb",
   "metadata": {},
   "outputs": [],
   "source": [
    "df_airbnb_calendar = pd.DataFrame(airbnb_calendar)"
   ]
  },
  {
   "cell_type": "code",
   "execution_count": null,
   "id": "e0b11357",
   "metadata": {},
   "outputs": [],
   "source": [
    "df_airbnb_calendar.head()"
   ]
  },
  {
   "cell_type": "code",
   "execution_count": null,
   "id": "af4f78eb",
   "metadata": {},
   "outputs": [],
   "source": [
    "df_airbnb_calendar['available'].value_counts()"
   ]
  },
  {
   "cell_type": "code",
   "execution_count": null,
   "id": "8a558779",
   "metadata": {},
   "outputs": [],
   "source": [
    "df_airbnb_calendar['available'] = df_airbnb_calendar['available'].map(lambda available: 1 if available == 't' else 0)"
   ]
  },
  {
   "cell_type": "code",
   "execution_count": null,
   "id": "050dca1a",
   "metadata": {},
   "outputs": [],
   "source": [
    "df_airbnb_calendar['available'].value_counts()"
   ]
  },
  {
   "cell_type": "code",
   "execution_count": null,
   "id": "024f34af",
   "metadata": {},
   "outputs": [],
   "source": [
    "ocup = df_airbnb_calendar[['date', 'available']].groupby('date').mean()\n",
    "ocup['occupancy'] = 1 - ocup['available']"
   ]
  },
  {
   "cell_type": "code",
   "execution_count": null,
   "id": "96a788e2",
   "metadata": {},
   "outputs": [],
   "source": [
    "ocup.head()"
   ]
  },
  {
   "cell_type": "code",
   "execution_count": null,
   "id": "0919e34a",
   "metadata": {},
   "outputs": [],
   "source": [
    "ocup.reset_index(inplace = True)"
   ]
  },
  {
   "cell_type": "code",
   "execution_count": null,
   "id": "3b85a733",
   "metadata": {},
   "outputs": [],
   "source": [
    "for col in ocup.columns:\n",
    "    print(col)"
   ]
  },
  {
   "cell_type": "code",
   "execution_count": null,
   "id": "b6ab4d5a",
   "metadata": {},
   "outputs": [],
   "source": [
    "ocup.head()"
   ]
  },
  {
   "cell_type": "code",
   "execution_count": null,
   "id": "14c53ecf",
   "metadata": {},
   "outputs": [],
   "source": [
    "import datetime\n",
    "ocup['month'] = pd.DatetimeIndex(ocup['date']).month\n",
    "ocup.head()"
   ]
  },
  {
   "cell_type": "code",
   "execution_count": null,
   "id": "c07a1f1f",
   "metadata": {},
   "outputs": [],
   "source": [
    "ocup"
   ]
  },
  {
   "cell_type": "markdown",
   "id": "c3b29729",
   "metadata": {},
   "source": [
    "Separating Airbnb homes into two parts by their occupancy rate -\n",
    "1. Popular Airbnb Homes\n",
    "2. Unpopular Airbnb Homes"
   ]
  },
  {
   "cell_type": "code",
   "execution_count": null,
   "id": "a3d12692",
   "metadata": {},
   "outputs": [],
   "source": [
    "ocup = df_airbnb_calendar[['listing_id', 'available']].groupby('listing_id').mean()\n",
    "ocup['occupancy'] = 1 - ocup['available']\n",
    "ocup.drop(['available'], axis = 1, inplace=True)\n",
    "ocup['id'] = ocup.index"
   ]
  },
  {
   "cell_type": "code",
   "execution_count": null,
   "id": "fbab3bc1",
   "metadata": {},
   "outputs": [],
   "source": [
    "ocup.head()"
   ]
  },
  {
   "cell_type": "code",
   "execution_count": null,
   "id": "34c22096",
   "metadata": {},
   "outputs": [],
   "source": [
    "ocup.reset_index(inplace = True)"
   ]
  },
  {
   "cell_type": "code",
   "execution_count": null,
   "id": "66ecad95",
   "metadata": {},
   "outputs": [],
   "source": [
    "ocup.head()"
   ]
  },
  {
   "cell_type": "code",
   "execution_count": null,
   "id": "e422c7eb",
   "metadata": {},
   "outputs": [],
   "source": [
    "px.histogram(data_frame = ocup, x = 'occupancy')\n",
    "# plt.figure(figsize=(8,6))\n",
    "# sns.distplot(ocup['occupancy'], color = 'blue', kde = False)\n",
    "# plt.show"
   ]
  },
  {
   "cell_type": "markdown",
   "id": "f7dfd70e",
   "metadata": {},
   "source": [
    "Drawing the comparison distributions about host response time, property type, neighborhood, and cancellation policy"
   ]
  },
  {
   "cell_type": "code",
   "execution_count": null,
   "id": "052c6217",
   "metadata": {},
   "outputs": [],
   "source": [
    "threshold = 0.70"
   ]
  },
  {
   "cell_type": "code",
   "execution_count": null,
   "id": "03a4682b",
   "metadata": {},
   "outputs": [],
   "source": [
    "data = pd.merge(ocup, airbnb_listings, how='inner', left_on = 'id', right_on = 'id')\n",
    "data.head()"
   ]
  },
  {
   "cell_type": "code",
   "execution_count": null,
   "id": "283bd807",
   "metadata": {},
   "outputs": [],
   "source": [
    "def comparePlot(feat):\n",
    "    plt.figure(figsize=(8,6))\n",
    "    \n",
    "    if data[feat].dtype != np.float:\n",
    "        cnt_popular = data[data['occupancy'] >= threshold][feat].value_counts()\n",
    "        cnt_unpopular = data[data['occupancy'] < threshold][feat].value_counts()\n",
    "        fre_popular = pd.DataFrame(cnt_popular / sum(cnt_popular))\n",
    "        fre_popular['popularity'] = 'Popular'\n",
    "        fre_popular['index'] = fre_popular.index\n",
    "        fre_unpopular = pd.DataFrame(cnt_unpopular / sum(cnt_unpopular))\n",
    "        fre_unpopular['popularity'] = 'Unpopular'\n",
    "        fre_unpopular['index'] = fre_unpopular.index\n",
    "        \n",
    "        plot_data = pd.concat([fre_popular, fre_unpopular], ignore_index=True)\n",
    "        sns.barplot(x='index', y=feat, hue='popularity', data=plot_data, palette='GnBu')\n",
    "        plt.xticks(rotation='vertical')\n",
    "        plt.legend(loc=1)\n",
    "    \n",
    "    # if float, draw kde line\n",
    "    else:\n",
    "        sns.kdeplot(data[feat][data['occupancy'] >= threshold], color='m')\n",
    "        sns.kdeplot(data[feat][data['occupancy'] < threshold], color='c')\n",
    "        plt.legend(['Popular', 'Unpopular'], loc=1)\n",
    "    \n",
    "    plt.xlabel(feat)\n",
    "    plt.ylabel('Frequency')\n",
    "    \n",
    "    plt.show()\n",
    "        "
   ]
  },
  {
   "cell_type": "code",
   "execution_count": null,
   "id": "c255db38",
   "metadata": {},
   "outputs": [],
   "source": [
    "data['price'] = data['price'].map(lambda price: float(price[1:].replace(',', '')), na_action='ignore')\n",
    "comparePlot('price')"
   ]
  },
  {
   "cell_type": "code",
   "execution_count": null,
   "id": "32dfc622",
   "metadata": {},
   "outputs": [],
   "source": [
    "comparePlot('property_type')"
   ]
  },
  {
   "cell_type": "code",
   "execution_count": null,
   "id": "fc7db51c",
   "metadata": {},
   "outputs": [],
   "source": [
    "comparePlot('host_response_time')"
   ]
  },
  {
   "cell_type": "markdown",
   "id": "06be7430",
   "metadata": {},
   "source": [
    "From the above plot we can infer that if a host can respond sooner, they will have more chance to rent their homes"
   ]
  },
  {
   "cell_type": "code",
   "execution_count": null,
   "id": "e6ef047e",
   "metadata": {},
   "outputs": [],
   "source": [
    "comparePlot('instant_bookable')"
   ]
  },
  {
   "cell_type": "markdown",
   "id": "ca59ee47",
   "metadata": {},
   "source": [
    "From the above plot we can infer that the listing which gets booked early would be the most popular."
   ]
  },
  {
   "cell_type": "markdown",
   "id": "6eb0f6bf",
   "metadata": {},
   "source": [
    "Defining Timeplot function Eda to find the seasonal pattern in Chicago"
   ]
  },
  {
   "cell_type": "code",
   "execution_count": null,
   "id": "2b8ac30f",
   "metadata": {},
   "outputs": [],
   "source": [
    "def timeplot(data, feat, title):\n",
    "    \"\"\"\n",
    "    draw a smooth line for the time series of feature\n",
    "    \"\"\"\n",
    "    \n",
    "    plt.figure(figsize=(20,8))\n",
    "    \n",
    "    x = [datetime.strptime(date, '%Y-%m-%d') for date in data.index]\n",
    "    y = data[feat]\n",
    "    \n",
    "    # smooth y for visualization\n",
    "    y_smooth = gaussian_filter1d(y, sigma=5)\n",
    "    \n",
    "    # set x tick by month\n",
    "    plt.gca().xaxis.set_major_formatter(mdates.DateFormatter('%Y-%m-%d'))\n",
    "    plt.gca().xaxis.set_major_locator(mdates.MonthLocator())\n",
    "    \n",
    "    plt.title(title)\n",
    "    plt.plot(x, y_smooth, 'c-')\n",
    "    plt.show()"
   ]
  },
  {
   "cell_type": "code",
   "execution_count": null,
   "id": "4d0ad839",
   "metadata": {},
   "outputs": [],
   "source": [
    "airbnb_calendar['available'].value_counts()"
   ]
  },
  {
   "cell_type": "code",
   "execution_count": null,
   "id": "ed3b71bd",
   "metadata": {},
   "outputs": [],
   "source": [
    "airbnb_calendar = pd.read_csv(\"calendar.csv\")"
   ]
  },
  {
   "cell_type": "code",
   "execution_count": null,
   "id": "36cf1158",
   "metadata": {},
   "outputs": [],
   "source": [
    "# converting 'available' into binary\n",
    "airbnb_calendar['available'] = airbnb_calendar['available'].map(lambda available: 1 if available == 't' else 0)"
   ]
  },
  {
   "cell_type": "code",
   "execution_count": null,
   "id": "7f46f4dc",
   "metadata": {},
   "outputs": [],
   "source": [
    "airbnb_calendar['available'].value_counts()"
   ]
  },
  {
   "cell_type": "code",
   "execution_count": null,
   "id": "0116a8ba",
   "metadata": {},
   "outputs": [],
   "source": [
    "airbnb_calendar['date'] = pd.to_datetime(airbnb_calendar['date']).astype(str)"
   ]
  },
  {
   "cell_type": "code",
   "execution_count": null,
   "id": "e68438c8",
   "metadata": {},
   "outputs": [],
   "source": [
    "ocp = airbnb_calendar[['date', 'available']].groupby('date').mean()\n",
    "ocp['occupancy'] = 1 - ocp['available']"
   ]
  },
  {
   "cell_type": "code",
   "execution_count": null,
   "id": "2c5d6ad4",
   "metadata": {},
   "outputs": [],
   "source": [
    "ocp.head(50)"
   ]
  },
  {
   "cell_type": "markdown",
   "id": "39090567",
   "metadata": {},
   "source": [
    "### Seasonal Booking"
   ]
  },
  {
   "cell_type": "code",
   "execution_count": null,
   "id": "97fcdd58",
   "metadata": {},
   "outputs": [],
   "source": [
    "from datetime import datetime\n",
    "from scipy.ndimage.filters import gaussian_filter1d\n",
    "import matplotlib.dates as mdates\n",
    "timeplot(ocp, 'occupancy', 'Occupancy Rate by Date')"
   ]
  },
  {
   "cell_type": "markdown",
   "id": "62dd83bb",
   "metadata": {},
   "source": [
    "This indicates that the occupancy rate peaked in September and then rapidly declined to 30% and 10% in November and December. Because after that it starts to rise gradually in April. This suggests that the busiest seasons in Chicago are the spring and summer. From late June to early October, Chicago experiences its best weather. And during that time, there actually is a peak."
   ]
  },
  {
   "cell_type": "markdown",
   "id": "b5c65874",
   "metadata": {},
   "source": [
    "#### Median "
   ]
  },
  {
   "cell_type": "code",
   "execution_count": null,
   "id": "3092276a",
   "metadata": {},
   "outputs": [],
   "source": [
    "airbnb_calendar"
   ]
  },
  {
   "cell_type": "code",
   "execution_count": null,
   "id": "d578f238",
   "metadata": {},
   "outputs": [],
   "source": [
    "airbnb_calendar['price'] = airbnb_calendar['price'].map(lambda price: float(price[1:].replace(',', '')), na_action='ignore')"
   ]
  },
  {
   "cell_type": "code",
   "execution_count": null,
   "id": "a2ee2941",
   "metadata": {},
   "outputs": [],
   "source": [
    "price_mean = airbnb_calendar[['date', 'price']].groupby('date').mean()"
   ]
  },
  {
   "cell_type": "markdown",
   "id": "5da972a3",
   "metadata": {},
   "source": [
    "### Seasonal Pricing"
   ]
  },
  {
   "cell_type": "code",
   "execution_count": null,
   "id": "4a613db6",
   "metadata": {},
   "outputs": [],
   "source": [
    "timeplot(price_mean, 'price', 'Mean Price by Date')"
   ]
  },
  {
   "cell_type": "markdown",
   "id": "7a19ac04",
   "metadata": {},
   "source": [
    "The rental rates have increased since November and are at their highest in June and July. The weather in Chicago is typically pleasant at that time. It makes sense that rental rates would be higher then."
   ]
  },
  {
   "cell_type": "markdown",
   "id": "55f381df",
   "metadata": {},
   "source": [
    "#### Mean"
   ]
  },
  {
   "cell_type": "code",
   "execution_count": null,
   "id": "727ea7f1",
   "metadata": {},
   "outputs": [],
   "source": [
    "price_mean = airbnb_calendar[['date', 'price']].groupby('date').mean()"
   ]
  },
  {
   "cell_type": "code",
   "execution_count": null,
   "id": "582d60a4",
   "metadata": {},
   "outputs": [],
   "source": [
    "timeplot(price_mean, 'price', 'Mean Price by Date')"
   ]
  },
  {
   "cell_type": "markdown",
   "id": "13bda42a",
   "metadata": {},
   "source": [
    "Although it has a slightly different appearance, the same pattern is still visible."
   ]
  },
  {
   "cell_type": "markdown",
   "id": "0ef42c83",
   "metadata": {},
   "source": [
    "## Machine Learning Models"
   ]
  },
  {
   "cell_type": "code",
   "execution_count": null,
   "id": "f841c2d9",
   "metadata": {},
   "outputs": [],
   "source": [
    "from sklearn import preprocessing as p\n",
    "scaler = p.StandardScaler()\n",
    "columns = airbnb_listings_clean.columns\n",
    "airbnb_listings_clean = scaler.fit_transform(airbnb_listings_clean)\n",
    "airbnb_listings_clean = pd.DataFrame(airbnb_listings_clean)\n",
    "airbnb_listings_clean.columns = columns"
   ]
  },
  {
   "cell_type": "code",
   "execution_count": null,
   "id": "7a741053",
   "metadata": {},
   "outputs": [],
   "source": [
    "airbnb_listings_clean.dtypes"
   ]
  },
  {
   "cell_type": "code",
   "execution_count": null,
   "id": "8ad8ba45",
   "metadata": {},
   "outputs": [],
   "source": [
    "x_col = dropping_column(airbnb_listings_clean, 'price')\n",
    "y_col = airbnb_listings_clean['price']"
   ]
  },
  {
   "cell_type": "code",
   "execution_count": null,
   "id": "8b2b9b03",
   "metadata": {},
   "outputs": [],
   "source": [
    "from sklearn.model_selection import train_test_split\n",
    "X_train, X_test, y_train, y_test = train_test_split(x_col, y_col, test_size=0.2)"
   ]
  },
  {
   "cell_type": "markdown",
   "id": "63907b4a",
   "metadata": {},
   "source": [
    "## Problem - 1 Understanding influential features for determining price and Predicting Rental Prices of AirBnb in Chicago"
   ]
  },
  {
   "cell_type": "markdown",
   "id": "79f40e3a",
   "metadata": {},
   "source": [
    "## XGBoost"
   ]
  },
  {
   "cell_type": "code",
   "execution_count": null,
   "id": "60534857",
   "metadata": {},
   "outputs": [],
   "source": [
    "from sklearn.model_selection import KFold\n",
    "kf=KFold(n_splits = 10)\n",
    "scoring=['r2','neg_mean_squared_error']"
   ]
  },
  {
   "cell_type": "code",
   "execution_count": null,
   "id": "344798db",
   "metadata": {},
   "outputs": [],
   "source": [
    "import sys\n",
    "import xgboost as xgb\n",
    "from xgboost import plot_importance"
   ]
  },
  {
   "cell_type": "code",
   "execution_count": null,
   "id": "0c019893",
   "metadata": {},
   "outputs": [],
   "source": [
    "import time\n",
    "xgb_reg_start = time.time()\n",
    "\n",
    "xgb_reg=xgb.XGBRegressor(learning_rate = 0.1, alpha = 10,  max_depth = 3, n_estimators = 1000)\n",
    "xgb_reg.fit(X_train, y_train)\n",
    "training_preds_xgb_reg=xgb_reg.predict(X_train)\n",
    "val_preds_xgb_reg=xgb_reg.predict(X_test)\n",
    "\n",
    "xgb_reg_end=time.time()"
   ]
  },
  {
   "cell_type": "code",
   "execution_count": null,
   "id": "fa4b2cf0",
   "metadata": {},
   "outputs": [],
   "source": [
    "ft_weights_xgb_reg=pd.DataFrame(xgb_reg.feature_importances_, columns=['weight'], index=X_train.columns)\n",
    "ft_weights_xgb_reg.sort_values('weight', ascending=False, inplace=True)\n",
    "ft_weights_xgb_reg.head(10)"
   ]
  },
  {
   "cell_type": "code",
   "execution_count": null,
   "id": "fdf3a359",
   "metadata": {},
   "outputs": [],
   "source": [
    "plt.figure(figsize=(20,90))\n",
    "plt.barh(ft_weights_xgb_reg.index, ft_weights_xgb_reg.weight, align='center') \n",
    "plt.title(\"Feature importances in the XGBoost model\", fontsize=14)\n",
    "plt.xlabel(\"Feature importance\")\n",
    "plt.margins(y=0.01)\n",
    "plt.show()"
   ]
  },
  {
   "cell_type": "code",
   "execution_count": null,
   "id": "30f0021f",
   "metadata": {},
   "outputs": [],
   "source": [
    "from sklearn.model_selection import cross_val_score,cross_validate\n",
    "results_kfold_XGB=cross_validate(xgb_reg,x_col,y_col,cv=kf,scoring=scoring)"
   ]
  },
  {
   "cell_type": "code",
   "execution_count": null,
   "id": "57684f25",
   "metadata": {},
   "outputs": [],
   "source": [
    "print(\"XGBooost MSE:\",-round(results_kfold_XGB['test_neg_mean_squared_error'].mean(),4))"
   ]
  },
  {
   "cell_type": "code",
   "execution_count": null,
   "id": "82851d3c",
   "metadata": {},
   "outputs": [],
   "source": [
    "print(\"XGBooost R^2:\",round(results_kfold_XGB['test_r2'].mean(),4))"
   ]
  },
  {
   "cell_type": "code",
   "execution_count": null,
   "id": "3de74376",
   "metadata": {},
   "outputs": [],
   "source": [
    "y_test_array =np.array(list(y_test))\n",
    "val_preds_xgb_reg_array = np.array(val_preds_xgb_reg)\n",
    "xgb_df = pd.DataFrame({'Actual': y_test_array.flatten(), 'Predicted': val_preds_xgb_reg_array.flatten()})\n",
    "xgb_df.head(10)"
   ]
  },
  {
   "cell_type": "markdown",
   "id": "3b00c112",
   "metadata": {},
   "source": [
    "#### Following XGBoost, we obtained the attributes listed below as the most weighted - \n",
    "1. bedrooms\n",
    "2. calculated_host_lisitngs_count_private_rooms\n",
    "3. beds"
   ]
  },
  {
   "cell_type": "markdown",
   "id": "23c5594c",
   "metadata": {},
   "source": [
    "## Random Forest"
   ]
  },
  {
   "cell_type": "code",
   "execution_count": null,
   "id": "556e655b",
   "metadata": {},
   "outputs": [],
   "source": [
    "from sklearn.ensemble import RandomForestRegressor\n",
    "from sklearn.model_selection import GridSearchCV"
   ]
  },
  {
   "cell_type": "code",
   "execution_count": null,
   "id": "8c561619",
   "metadata": {},
   "outputs": [],
   "source": [
    "rfr=RandomForestRegressor(n_estimators=1500, random_state=42)"
   ]
  },
  {
   "cell_type": "code",
   "execution_count": null,
   "id": "0a0edf37",
   "metadata": {},
   "outputs": [],
   "source": [
    "rfr.fit(X_train,y_train)"
   ]
  },
  {
   "cell_type": "code",
   "execution_count": null,
   "id": "7757d240",
   "metadata": {},
   "outputs": [],
   "source": [
    "rfr_train = rfr.predict(X_train)\n",
    "testPredictin_RF = rfr.predict(X_test)"
   ]
  },
  {
   "cell_type": "code",
   "execution_count": null,
   "id": "c432f3e7",
   "metadata": {},
   "outputs": [],
   "source": [
    "importancesRfr = rfr.feature_importances_\n",
    "features_imp1 = pd.DataFrame(importancesRfr, columns=['Weight'], index=X_train.columns)\n",
    "features_imp1.sort_values(['Weight'], inplace= True, ascending=False)\n",
    "features_imp1 = features_imp1.head(10)\n",
    "features_imp1.round(6)"
   ]
  },
  {
   "cell_type": "code",
   "execution_count": null,
   "id": "76364f95",
   "metadata": {},
   "outputs": [],
   "source": [
    "features_imp = pd.DataFrame({'importance':rfr.feature_importances_})  \n",
    "features_imp['feature'] = X_train.columns\n",
    "features_imp.sort_values(by='importance',ascending=False,inplace=True)"
   ]
  },
  {
   "cell_type": "code",
   "execution_count": null,
   "id": "6a219cbe",
   "metadata": {},
   "outputs": [],
   "source": [
    "features_imp.sort_values(by='importance',inplace=True)\n",
    "features_imp=features_imp.set_index('feature',drop=True)\n",
    "features_imp.plot.barh(figsize=(20,90))\n",
    "plt.xlabel('Feature Importance Score')\n",
    "plt.show()"
   ]
  },
  {
   "cell_type": "code",
   "execution_count": null,
   "id": "bf9a3ba4",
   "metadata": {},
   "outputs": [],
   "source": [
    "from sklearn.metrics import mean_squared_error, r2_score\n",
    "\n",
    "print(\"\\nTraining RMSE:\", round(mean_squared_error(y_train, rfr_train),4))\n",
    "print(\"Validation RMSE:\", round(mean_squared_error(y_test, testPredictin_RF),4))\n",
    "print(\"\\nTraining r2:\", round(r2_score(y_train, rfr_train),4))\n",
    "print(\"Validation r2:\", round(r2_score(y_test, testPredictin_RF),4))"
   ]
  },
  {
   "cell_type": "code",
   "execution_count": null,
   "id": "32729f2f",
   "metadata": {},
   "outputs": [],
   "source": [
    "print(\"RandomForest MSE:\",\n",
    "      -round(results_kfold_XGB['test_neg_mean_squared_error'].mean(),4))\n",
    "print(\"RandomForest MSE:\",\n",
    "      -round(results_kfold_XGB['test_neg_mean_squared_error'].mean(),4))"
   ]
  },
  {
   "cell_type": "code",
   "execution_count": null,
   "id": "cc2e0d7a",
   "metadata": {},
   "outputs": [],
   "source": [
    "y_test_array=np.array(list(y_test))\n",
    "val_preds_xgb_reg_array = np.array(val_preds_xgb_reg)\n",
    "rfr_df = pd.DataFrame({'Actual': y_test_array.flatten(), 'Predicted': val_preds_xgb_reg_array.flatten()})\n",
    "rfr_df.head(10)"
   ]
  },
  {
   "cell_type": "markdown",
   "id": "3d2e7ea6",
   "metadata": {},
   "source": [
    "#### Following RandomForest, we obtained the attributes listed below as the most weighted - \n",
    "1. bedrooms\n",
    "2. beds \n",
    "3. calculated_host_lisitngs_count_private_rooms"
   ]
  },
  {
   "cell_type": "markdown",
   "id": "6ba11c8c",
   "metadata": {},
   "source": [
    "### CatBoost"
   ]
  },
  {
   "cell_type": "code",
   "execution_count": null,
   "id": "7f33aa4d",
   "metadata": {},
   "outputs": [],
   "source": [
    "from catboost import Pool,CatBoostRegressor\n",
    "CatB=CatBoostRegressor(iterations=2000,\n",
    "                       depth=3, learning_rate=0.1,loss_function='RMSE')\n",
    "CatB.fit(X_train,y_train,plot=True);\n",
    "\n",
    "\n",
    "trainPrediction_CatB=CatB.predict(X_train)\n",
    "testPrediction_CatB=CatB.predict(X_test)"
   ]
  },
  {
   "cell_type": "code",
   "execution_count": null,
   "id": "c1784c35",
   "metadata": {},
   "outputs": [],
   "source": [
    "airbnb_listings_clean"
   ]
  },
  {
   "cell_type": "code",
   "execution_count": null,
   "id": "774e77e6",
   "metadata": {},
   "outputs": [],
   "source": [
    "feature_impCatB = CatB.feature_importances_\n",
    "feat_imp1 = pd.DataFrame(feature_impCatB, columns=['Weight'], index=X_train.columns)\n",
    "feat_imp1.sort_values(['Weight'],inplace= True,ascending=False)\n",
    "feat_imp1.head(10)"
   ]
  },
  {
   "cell_type": "code",
   "execution_count": null,
   "id": "e819add8",
   "metadata": {},
   "outputs": [],
   "source": [
    "feature_impCatB=pd.DataFrame({'imp': CatB.feature_importances_, 'col': X_train.columns})\n",
    "feature_impCatB=feature_impCatB.sort_values(['imp', 'col'], ascending=[True, False]).iloc[-30:]\n",
    "feature_impCatB.plot(kind='barh', x='col', y='imp', figsize=(10, 10), legend=None)\n",
    "plt.title('CatBoost - Feature Importance')\n",
    "plt.ylabel('Features')\n",
    "plt.xlabel('Importance');\n",
    "plt.xlim(0.001, 20.0)"
   ]
  },
  {
   "cell_type": "code",
   "execution_count": null,
   "id": "cab2889e",
   "metadata": {},
   "outputs": [],
   "source": [
    "results_kfold_catBoost = cross_validate(CatB,x_col,y_col,cv=kf,scoring=scoring)"
   ]
  },
  {
   "cell_type": "code",
   "execution_count": null,
   "id": "079fdfcf",
   "metadata": {},
   "outputs": [],
   "source": [
    "print(\"CatBoost MSE:\" , -round(results_kfold_catBoost['test_neg_mean_squared_error'].mean(),4))\n",
    "print(\"CatBooost MSE:\" , -round(results_kfold_catBoost['test_neg_mean_squared_error'].mean(),4))"
   ]
  },
  {
   "cell_type": "code",
   "execution_count": null,
   "id": "2a8efe99",
   "metadata": {},
   "outputs": [],
   "source": [
    "y_test_array =np.array(list(y_test))\n",
    "testPrediction_CatB_array = np.array(testPrediction_CatB)\n",
    "cat_df = pd.DataFrame({'Actual': y_test_array.flatten(), 'Predicted': testPrediction_CatB_array.flatten()})\n",
    "cat_df.head(10)"
   ]
  },
  {
   "cell_type": "markdown",
   "id": "e3aa556e",
   "metadata": {},
   "source": [
    "#### Following CatBoost, we obtained the attributes listed below as the most weighted - \n",
    "1. bedrooms\n",
    "2. beds \n",
    "3. calculated_host_lisitngs_count_entire_rooms"
   ]
  },
  {
   "cell_type": "markdown",
   "id": "b7a1b25d",
   "metadata": {},
   "source": [
    "### Spatial Hedonic Price Model (HPM)"
   ]
  },
  {
   "cell_type": "code",
   "execution_count": null,
   "id": "c79fd3f1",
   "metadata": {},
   "outputs": [],
   "source": [
    "from sklearn.metrics import mean_squared_error, r2_score\n",
    "\n",
    "def train(model):\n",
    "    model.fit(X_train, y_train)\n",
    "    y_train_pred = model.predict(X_train)\n",
    "    y_test_pred = model.predict(X_test)\n",
    "    \n",
    "    mse = mean_squared_error(y_train, y_train_pred)\n",
    "    r2 = r2_score(y_train, y_train_pred)\n",
    "    print('For training data, mean squared error: {:.4f}, R2: {:.4f}'.format(mse, r2))\n",
    "\n",
    "    mse = mean_squared_error(y_test, y_test_pred)\n",
    "    r2 = r2_score(y_test, y_test_pred)\n",
    "    print('For test data, mean squared error: {:.4f}, R2: {:.4f}'.format(mse, r2))"
   ]
  },
  {
   "cell_type": "code",
   "execution_count": null,
   "id": "bd5aef70",
   "metadata": {},
   "outputs": [],
   "source": [
    "from sklearn import linear_model\n",
    "from sklearn.metrics import mean_squared_error, r2_score\n",
    "import time\n",
    "from sklearn.linear_model import LinearRegression\n",
    "hpm_regression_start = time.time()\n",
    "\n",
    "hpm_regression = LinearRegression()  \n",
    "hpm_regression.fit(X_train, y_train) #training the algorithm\n",
    "\n",
    "\n",
    "training_preds_hpm_regression = hpm_regression.predict(X_train)\n",
    "val_preds_hpm_regression = hpm_regression.predict(X_test)\n",
    "\n",
    "hpm_regression_end = time.time()\n",
    "\n",
    "print(f\"Time taken to run: {round((hpm_regression_end - hpm_regression_start)/60,1)} minutes\")\n",
    "\n",
    "print(\"\\nTraining RMSE:\", round(mean_squared_error(y_train, training_preds_hpm_regression),4))\n",
    "print(\"Validation RMSE:\", round(mean_squared_error(y_test, val_preds_hpm_regression),4))\n",
    "print(\"\\nTraining r2:\", round(r2_score(y_train, training_preds_hpm_regression),4))\n",
    "print(\"Validation r2:\", round(r2_score(y_test, val_preds_hpm_regression),4))"
   ]
  },
  {
   "cell_type": "code",
   "execution_count": null,
   "id": "ee32879f",
   "metadata": {},
   "outputs": [],
   "source": [
    "y_test_array = np.array(list(y_test))\n",
    "val_preds_hpm_reg_array = np.array(val_preds_hpm_regression)\n",
    "hpm_df = pd.DataFrame({'Actual': y_test_array.flatten(), 'Predicted': val_preds_hpm_reg_array.flatten()})\n",
    "hpm_df.head(10)"
   ]
  },
  {
   "cell_type": "markdown",
   "id": "dceb104d",
   "metadata": {},
   "source": [
    "Using Spatial Hedonic Price Model (HPM) for predicting rental prices of Airbnb in Chicago, we got a validation Root Mean Square Error of 9.9 and got the Actual and Predicted values which are not that close compared to other models."
   ]
  },
  {
   "cell_type": "markdown",
   "id": "6d756725",
   "metadata": {},
   "source": [
    "## Linear Regression"
   ]
  },
  {
   "cell_type": "code",
   "execution_count": null,
   "id": "365239c6",
   "metadata": {},
   "outputs": [],
   "source": [
    "from sklearn.metrics import mean_squared_error, r2_score\n",
    "\n",
    "def train(model):\n",
    "    model.fit(X_train, y_train)\n",
    "    y_train_pred = model.predict(X_train)\n",
    "    y_test_pred = model.predict(X_test)\n",
    "    \n",
    "    mse = mean_squared_error(y_train, y_train_pred)\n",
    "    r2 = r2_score(y_train, y_train_pred)\n",
    "    print('For training data, mean squared error: {:.4f}, R2: {:.4f}'.format(mse, r2))\n",
    "\n",
    "    mse = mean_squared_error(y_test, y_test_pred)\n",
    "    r2 = r2_score(y_test, y_test_pred)\n",
    "    print('For test data, mean squared error: {:.4f}, R2: {:.4f}'.format(mse, r2))"
   ]
  },
  {
   "cell_type": "code",
   "execution_count": null,
   "id": "e6d5d70a",
   "metadata": {},
   "outputs": [],
   "source": [
    "from sklearn.linear_model import Ridge\n",
    "from sklearn.pipeline import make_pipeline\n",
    "from sklearn.preprocessing import StandardScaler\n",
    "rr1 = make_pipeline(StandardScaler(with_mean=False), Ridge(alpha=0.5))\n",
    "rr1.fit(X_train, y_train)\n",
    "y_train_pred = rr1.predict(X_train)\n",
    "y_test_pred = rr1.predict(X_test)\n",
    "train(rr1)"
   ]
  },
  {
   "cell_type": "code",
   "execution_count": null,
   "id": "27112b5f",
   "metadata": {},
   "outputs": [],
   "source": [
    "rr2 = make_pipeline(StandardScaler(with_mean=False), Ridge(alpha=0.1))\n",
    "train(rr2)"
   ]
  },
  {
   "cell_type": "code",
   "execution_count": null,
   "id": "2497fca3",
   "metadata": {},
   "outputs": [],
   "source": [
    "rr3 = make_pipeline(StandardScaler(with_mean=False), Ridge(alpha=0.05))\n",
    "train(rr3)"
   ]
  },
  {
   "cell_type": "code",
   "execution_count": null,
   "id": "4c6e65a1",
   "metadata": {},
   "outputs": [],
   "source": [
    "from sklearn.linear_model import Lasso\n",
    "lasso1 = make_pipeline(StandardScaler(with_mean=False), Lasso(alpha=0.1))\n",
    "train(lasso1)"
   ]
  },
  {
   "cell_type": "code",
   "execution_count": null,
   "id": "f9b032f6",
   "metadata": {},
   "outputs": [],
   "source": [
    "lasso2 = make_pipeline(StandardScaler(with_mean=False), Lasso(alpha=0.01))\n",
    "train(lasso2)"
   ]
  },
  {
   "cell_type": "code",
   "execution_count": null,
   "id": "07e289d8",
   "metadata": {},
   "outputs": [],
   "source": [
    "lasso3 = make_pipeline(StandardScaler(with_mean=False), Lasso(alpha=0.001))\n",
    "train(lasso3)"
   ]
  },
  {
   "cell_type": "code",
   "execution_count": null,
   "id": "34c12252",
   "metadata": {
    "scrolled": false
   },
   "outputs": [],
   "source": [
    "from sklearn import linear_model\n",
    "lr = linear_model.LinearRegression()\n",
    "\n",
    "for i in range (-2, 3):\n",
    "    alpha = 10**i\n",
    "    rm = linear_model.Ridge(alpha=alpha)\n",
    "    ridge_model = rm.fit(X_train, y_train)\n",
    "    preds_ridge = ridge_model.predict(X_test)\n",
    "\n",
    "    plt.scatter(preds_ridge, y_test, alpha=.75, color='r')\n",
    "    print(\"r^2 is:\",round(ridge_model.score(X_test, y_test), 4))\n",
    "    print(\"RMSE is: \",round(mean_squared_error(y_train, training_preds_hpm_regression),4))\n",
    "    plt.xlabel('Predicted Price')\n",
    "    plt.ylabel('Actual Price')\n",
    "    plt.title('Ridge Regularization with alpha = {}'.format(alpha))\n",
    "    plt.show()"
   ]
  },
  {
   "cell_type": "code",
   "execution_count": null,
   "id": "13f16df8",
   "metadata": {},
   "outputs": [],
   "source": [
    "rr1 = make_pipeline(StandardScaler(with_mean=False), Ridge(alpha=0.5))\n",
    "train(rr1)\n",
    "y_test_array = np.array(list(y_test))\n",
    "y_test_pred_array = np.array(y_test_pred)\n",
    "hpm_df = pd.DataFrame({'Actual': y_test_array.flatten(), 'Predicted': y_test_pred_array.flatten()})\n",
    "hpm_df.head(10)"
   ]
  },
  {
   "cell_type": "markdown",
   "id": "927b9b1e",
   "metadata": {},
   "source": [
    "Using Linear Regression to forecast Airbnb rental pricing in Chicago, we obtained a Root Mean Square Error for test data which is 0.40 and obtained Actual and Predicted values that are best compared to other models."
   ]
  },
  {
   "cell_type": "markdown",
   "id": "4c483997",
   "metadata": {},
   "source": [
    "## Decision Tree"
   ]
  },
  {
   "cell_type": "code",
   "execution_count": null,
   "id": "af4f900d",
   "metadata": {},
   "outputs": [],
   "source": [
    "from sklearn.tree import DecisionTreeRegressor  \n",
    "regressor = DecisionTreeRegressor()  \n",
    "regressor.fit(X_train, y_train) \n",
    "y_pred = regressor.predict(X_test)  \n",
    "df=pd.DataFrame({'Actual':y_test, 'Predicted':y_pred})  \n",
    "df.index+=1\n",
    "df"
   ]
  },
  {
   "cell_type": "code",
   "execution_count": null,
   "id": "c4ed486d",
   "metadata": {},
   "outputs": [],
   "source": [
    "from sklearn import metrics  \n",
    "print('Mean Absolute Error:', metrics.mean_absolute_error(y_test, y_pred))  \n",
    "print('Mean Squared Error:', metrics.mean_squared_error(y_test, y_pred))  \n",
    "print('Root Mean Squared Error:', np.sqrt(metrics.mean_squared_error(y_test, y_pred)))"
   ]
  },
  {
   "cell_type": "code",
   "execution_count": null,
   "id": "d3b69782",
   "metadata": {},
   "outputs": [],
   "source": [
    "fig = plt.figure()\n",
    "plt.scatter(y_pred, y_test, alpha=.7,\n",
    "            color='b') #alpha helps to show overlapping data\n",
    "\n",
    "plt.xlabel('Predicted Price')\n",
    "plt.ylabel('Actual Price')\n",
    "plt.title('Actual Vs Predicted')\n",
    "plt.show()"
   ]
  },
  {
   "cell_type": "markdown",
   "id": "69c1b280",
   "metadata": {},
   "source": [
    "We found a Root Mean Square Error of 0.75 when using Decision Tree to anticipate Airbnb rental pricing in Chicago."
   ]
  },
  {
   "cell_type": "markdown",
   "id": "a4ad1c2f",
   "metadata": {},
   "source": [
    "## Predicting Reviews of AirBnb Comments"
   ]
  },
  {
   "cell_type": "code",
   "execution_count": null,
   "id": "b100af4d",
   "metadata": {},
   "outputs": [],
   "source": [
    "import plotly.graph_objects as go\n",
    "import matplotlib.pyplot as plt\n",
    "import spacy\n",
    "import nltk"
   ]
  },
  {
   "cell_type": "code",
   "execution_count": null,
   "id": "d3c193c4",
   "metadata": {},
   "outputs": [],
   "source": [
    "nltk.download('stopwords')"
   ]
  },
  {
   "cell_type": "code",
   "execution_count": null,
   "id": "d4e82cb8",
   "metadata": {},
   "outputs": [],
   "source": [
    "reviews_df=pd.read_csv('reviews.csv')\n",
    "reviews_df.head()"
   ]
  },
  {
   "cell_type": "code",
   "execution_count": null,
   "id": "5ba43c5b",
   "metadata": {},
   "outputs": [],
   "source": [
    "reviews_df=reviews_df.drop('date', axis=1)"
   ]
  },
  {
   "cell_type": "code",
   "execution_count": null,
   "id": "defe7f3a",
   "metadata": {},
   "outputs": [],
   "source": [
    "reviews_df.isnull().sum()"
   ]
  },
  {
   "cell_type": "code",
   "execution_count": null,
   "id": "2e76bbc3",
   "metadata": {},
   "outputs": [],
   "source": [
    "reviews_df['rating'].value_counts()"
   ]
  },
  {
   "cell_type": "markdown",
   "id": "32d74ae9",
   "metadata": {},
   "source": [
    "#### Checking the rating values"
   ]
  },
  {
   "cell_type": "code",
   "execution_count": null,
   "id": "655dd5b1",
   "metadata": {},
   "outputs": [],
   "source": [
    "positive=[4,5]\n",
    "neutral=[2,3]\n",
    "negative=[0,1]\n",
    "def sentiment(rating):\n",
    "    if rating in positive:\n",
    "        return 2\n",
    "    elif rating in negative:\n",
    "        return 0\n",
    "    else:\n",
    "        return 1\n",
    "reviews_df['Sentiment']=reviews_df['rating'].apply(sentiment)\n",
    "reviews_df.head()"
   ]
  },
  {
   "cell_type": "markdown",
   "id": "c6336664",
   "metadata": {},
   "source": [
    "#### Now analysing positive, neutral and negative reviews"
   ]
  },
  {
   "cell_type": "code",
   "execution_count": null,
   "id": "fd673739",
   "metadata": {},
   "outputs": [],
   "source": [
    "fig = go.Figure([go.Bar(x=reviews_df.Sentiment.value_counts().index, \n",
    "                        y=reviews_df.Sentiment.value_counts().tolist())])\n",
    "fig.update_layout(\n",
    "    xaxis_title=\"Sentiment\", yaxis_title=\"Values\")\n",
    "fig.show()"
   ]
  },
  {
   "cell_type": "code",
   "execution_count": null,
   "id": "ca8c5259",
   "metadata": {},
   "outputs": [],
   "source": [
    "from nltk.corpus import stopwords\n",
    "stopwords_list=set(stopwords.words(\"english\"))\n",
    "punctuations=\"\"\"!()-![]{};:,+'\"\\,<>./?@#$%^&*_~Â\"\"\"\n",
    "\n",
    "def reviewParse(review):\n",
    "    splitReview = review.split() \n",
    "    parsedReview = \" \".join([word.translate(str.maketrans('', '', punctuations)) + \n",
    "                             \" \" for word in splitReview])\n",
    "    return parsedReview \n",
    "  \n",
    "def clean_review(review):\n",
    "    clean_words = []\n",
    "    splitReview = review.split()\n",
    "    for w in splitReview:\n",
    "        if w.isalpha() and w not in stopwords_list:\n",
    "            clean_words.append(w.lower())\n",
    "    clean_review=\" \".join(clean_words)\n",
    "    return clean_review\n",
    "\n",
    "\n",
    "reviews_df[\"comments\"]=reviews_df[\"comments\"].apply(reviewParse).apply(clean_review)\n",
    "reviews_df.head()"
   ]
  },
  {
   "cell_type": "code",
   "execution_count": null,
   "id": "949b1e8d",
   "metadata": {},
   "outputs": [],
   "source": [
    "docs=list(reviews_df['comments'])[:10000]"
   ]
  },
  {
   "cell_type": "code",
   "execution_count": null,
   "id": "065f4b19",
   "metadata": {},
   "outputs": [],
   "source": [
    "from sklearn.feature_extraction.text import TfidfVectorizer \n",
    "tfidf_vectorizer=TfidfVectorizer(use_idf=True, max_features = 20000) \n",
    "tfidf_vectorizer_vectors= tfidf_vectorizer.fit_transform(docs)"
   ]
  },
  {
   "cell_type": "code",
   "execution_count": null,
   "id": "2d60c594",
   "metadata": {},
   "outputs": [],
   "source": [
    "X =tfidf_vectorizer_vectors.toarray()\n",
    "Y =reviews_df['Sentiment'][:10000]"
   ]
  },
  {
   "cell_type": "markdown",
   "id": "270aa60e",
   "metadata": {},
   "source": [
    "#### Dividing the data into training, testing and validation sets"
   ]
  },
  {
   "cell_type": "code",
   "execution_count": null,
   "id": "ec853bf0",
   "metadata": {},
   "outputs": [],
   "source": [
    "from sklearn.model_selection import train_test_split, StratifiedKFold, GridSearchCV \n",
    "from sklearn.metrics import mean_absolute_error, accuracy_score, confusion_matrix, classification_report,roc_auc_score,roc_curve,auc\n",
    "from sklearn.tree import DecisionTreeClassifier\n",
    "\n",
    "X_train, X_test, y_train, y_test = train_test_split(X, Y, test_size = 0.2, random_state = 5, stratify = Y)"
   ]
  },
  {
   "cell_type": "code",
   "execution_count": null,
   "id": "a67f1bdf",
   "metadata": {
    "scrolled": true
   },
   "outputs": [],
   "source": [
    "fig = go.Figure([go.Bar(x=Y.value_counts().index, y=Y.value_counts().tolist())])\n",
    "fig.update_layout(\n",
    "    xaxis_title=\"Sentiment\",yaxis_title=\"Values\")\n",
    "fig.show()"
   ]
  },
  {
   "cell_type": "markdown",
   "id": "73b8bc23",
   "metadata": {},
   "source": [
    "### Naive bayes classifier"
   ]
  },
  {
   "cell_type": "code",
   "execution_count": null,
   "id": "0691156f",
   "metadata": {},
   "outputs": [],
   "source": [
    "from sklearn.naive_bayes import GaussianNB\n",
    "gnb = GaussianNB()\n",
    "gnb.fit(X_train, y_train)\n",
    "y_pred_train = gnb.predict(X_train)\n",
    "y_pred_test = gnb.predict(X_test)\n",
    "print(\"Training Accuracy score: \"+\n",
    "      str(round(accuracy_score(y_train,gnb.predict(X_train)),4)))\n",
    "print(\"Testing Accuracy score: \"+\n",
    "      str(round(accuracy_score(y_test,gnb.predict(X_test)),4)))"
   ]
  },
  {
   "cell_type": "code",
   "execution_count": null,
   "id": "a7ea9807",
   "metadata": {},
   "outputs": [],
   "source": [
    "cm = confusion_matrix(y_test, y_pred_test)\n",
    "cm_matrix = pd.DataFrame(data=cm, columns=['Actual Negative', 'Actual Neutral', 'Actual Positive'], \n",
    "                        index=['Predict Negative', 'Predict Neutral', 'Predict Positive'])\n",
    "sns.heatmap(cm_matrix, \n",
    "            annot=True, fmt='d', cmap='YlGnBu')\n",
    "plt.show()"
   ]
  },
  {
   "cell_type": "code",
   "execution_count": null,
   "id": "d7827782",
   "metadata": {},
   "outputs": [],
   "source": [
    "y_test_array = np.array(list(y_test))\n",
    "y_test_pred_array = np.array(y_pred_test)\n",
    "naive_df = pd.DataFrame({'Actual': y_test_array.flatten(), \n",
    "                         'Predicted': y_test_pred_array.flatten()})\n",
    "naive_df.head(10)"
   ]
  },
  {
   "cell_type": "markdown",
   "id": "4c144819",
   "metadata": {},
   "source": [
    "Using Naive Bayes Classifier, predicting reviews of comments in Airbnb_reviews dataset and plotted a confusion matrix. Also obtained a table with Actual and Predicted values along with mean squared error of 0.30 "
   ]
  },
  {
   "cell_type": "markdown",
   "id": "a1764452",
   "metadata": {},
   "source": [
    "### Logistic Regression"
   ]
  },
  {
   "cell_type": "code",
   "execution_count": null,
   "id": "18385926",
   "metadata": {},
   "outputs": [],
   "source": [
    "from sklearn.linear_model import LogisticRegression\n",
    "lr = LogisticRegression(random_state=9).fit(X_train, y_train)\n",
    "y_pred_train=lr.predict(X_train)\n",
    "y_pred_test=lr.predict(X_test)\n",
    "print(\"Training Accuracy score: \"+\n",
    "      str(round(accuracy_score(y_train,lr.predict(X_train)),4)))\n",
    "print(\"Testing Accuracy score: \"+\n",
    "      str(round(accuracy_score(y_test,lr.predict(X_test)),4)))"
   ]
  },
  {
   "cell_type": "code",
   "execution_count": null,
   "id": "7cf7178c",
   "metadata": {},
   "outputs": [],
   "source": [
    "cm=confusion_matrix(y_test, y_pred_test)\n",
    "cm_matrix=pd.DataFrame(data=cm, columns=['Actual Negative', \n",
    "                                           'Actual Neutral', 'Actual Positive'], \n",
    "                        index=['Predict Negative', 'Predict Neutral', 'Predict Positive'])\n",
    "sns.heatmap(cm_matrix, annot=True, fmt='d', cmap='YlGnBu')\n",
    "plt.show()"
   ]
  },
  {
   "cell_type": "code",
   "execution_count": null,
   "id": "6794d426",
   "metadata": {},
   "outputs": [],
   "source": [
    "y_test_array=np.array(list(y_test))\n",
    "y_test_pred_array = np.array(y_pred_test)\n",
    "logistic_df = pd.DataFrame({'Actual': y_test_array.flatten(), 'Predicted': y_test_pred_array.flatten()})\n",
    "logistic_df.head(10)"
   ]
  },
  {
   "cell_type": "markdown",
   "id": "e1b80631",
   "metadata": {},
   "source": [
    "Predicting reviews of comments in the Airbnb reviews dataset using Logistic Regression and generating a confusion matrix. A table with actual and predicted values, as well as a mean squared error of 0.305, was also obtained."
   ]
  },
  {
   "cell_type": "markdown",
   "id": "d25f72b9",
   "metadata": {},
   "source": [
    "### Ensemble Classifier"
   ]
  },
  {
   "cell_type": "code",
   "execution_count": null,
   "id": "71c8de14",
   "metadata": {},
   "outputs": [],
   "source": [
    "from sklearn.ensemble import VotingClassifier\n",
    "\n",
    "\n",
    "classifiers = [('Naive Bayes', gnb),\n",
    "               ('Logistic Regression', lr)\n",
    "              ]\n",
    "vc = VotingClassifier(estimators=classifiers)\n",
    "vc.fit(X_train, y_train)\n",
    "y_pred = vc.predict(X_test)\n",
    "print(\"Accuracy score for Training: \"+str(round(accuracy_score(\n",
    "    y_train,vc.predict(X_train)),4)))\n",
    "print(\"Accuracy score for Testing: \"+str(round(accuracy_score(\n",
    "    y_test,vc.predict(X_test)),4)))"
   ]
  },
  {
   "cell_type": "code",
   "execution_count": null,
   "id": "40034e1f",
   "metadata": {},
   "outputs": [],
   "source": [
    "cm = confusion_matrix(y_test, y_pred_test)\n",
    "cm_matrix = pd.DataFrame(data=cm, columns=['Actual Negative', 'Actual Neutral', 'Actual Positive'], \n",
    "                        index=['Predict Negative', 'Predict Neutral', 'Predict Positive'])\n",
    "sns.heatmap(cm_matrix, annot=True, fmt='d', cmap='YlGnBu')\n",
    "plt.show()"
   ]
  },
  {
   "cell_type": "code",
   "execution_count": null,
   "id": "6b2d8ebf",
   "metadata": {},
   "outputs": [],
   "source": [
    "y_test_array = np.array(list(y_test))\n",
    "y_pred_array = np.array(y_pred)\n",
    "ensemble_df = pd.DataFrame({'Actual': y_test_array.flatten(), 'Predicted': y_pred_array.flatten()})\n",
    "ensemble_df.head(10)"
   ]
  },
  {
   "cell_type": "markdown",
   "id": "96408773",
   "metadata": {},
   "source": [
    "Using Ensemble Classifier to predict reviews of comments in the Airbnb reviews dataset and generating a confusion matrix. A table with actual and anticipated values was also collected, as well as a mean squared error of 0.64."
   ]
  },
  {
   "cell_type": "markdown",
   "id": "0a0dc06a",
   "metadata": {},
   "source": [
    "## Amenities that are most influencial in AirBnb Chicago"
   ]
  },
  {
   "cell_type": "code",
   "execution_count": null,
   "id": "bb9f8dc1",
   "metadata": {},
   "outputs": [],
   "source": [
    "amen=airbnb_listings_dataset['amenities'].unique()\n",
    "amen"
   ]
  },
  {
   "cell_type": "code",
   "execution_count": null,
   "id": "45bf9e51",
   "metadata": {},
   "outputs": [],
   "source": [
    "import ast\n",
    "\n",
    "\n",
    "def Lis(x):\n",
    "    arr = ast.literal_eval(x)\n",
    "    return arr\n",
    "Lis(\"['Hello']\")\n",
    "airbnb_listings_dataset['amen_as_list'] = airbnb_listings_dataset['amenities'].apply(Lis)"
   ]
  },
  {
   "cell_type": "code",
   "execution_count": null,
   "id": "45ced0f8",
   "metadata": {},
   "outputs": [],
   "source": [
    "airbnb_listings_dataset['amen_as_list']"
   ]
  },
  {
   "cell_type": "code",
   "execution_count": null,
   "id": "b09f633c",
   "metadata": {},
   "outputs": [],
   "source": [
    "amenities={}\n",
    "for i in airbnb_listings_dataset['amen_as_list'].index:\n",
    "    for j in range(len(airbnb_listings_dataset['amen_as_list'][i])):\n",
    "        if(airbnb_listings_dataset['amen_as_list'][i][j] not in amenities):\n",
    "            amenities[(airbnb_listings_dataset['amen_as_list'][i][j])] = 1\n",
    "        else:\n",
    "            amenities[(airbnb_listings_dataset['amen_as_list'][i][j])] += 1\n",
    "amenities"
   ]
  },
  {
   "cell_type": "code",
   "execution_count": null,
   "id": "e66e809b",
   "metadata": {},
   "outputs": [],
   "source": [
    "new_amen=sorted(amenities.items(),key=lambda x: x[1])"
   ]
  },
  {
   "cell_type": "code",
   "execution_count": null,
   "id": "84e455cb",
   "metadata": {},
   "outputs": [],
   "source": [
    "new_amen[-25:]"
   ]
  },
  {
   "cell_type": "code",
   "execution_count": null,
   "id": "094c0bfd",
   "metadata": {},
   "outputs": [],
   "source": [
    "newDict=[]\n",
    "for i in range(15,25):\n",
    "    newDict.append(new_amen[-25:][i][0])\n",
    "newDict"
   ]
  },
  {
   "cell_type": "code",
   "execution_count": null,
   "id": "19f5fb88",
   "metadata": {},
   "outputs": [],
   "source": [
    "dnew=pd.DataFrame()\n",
    "dnew['scores']=airbnb_listings_clean['review_scores_rating']\n",
    "dnew"
   ]
  },
  {
   "cell_type": "code",
   "execution_count": null,
   "id": "6f0d4b2b",
   "metadata": {},
   "outputs": [],
   "source": [
    "for i in newDict:\n",
    "    dnew[i]=0\n",
    "dnew"
   ]
  },
  {
   "cell_type": "code",
   "execution_count": null,
   "id": "7cfbd51d",
   "metadata": {},
   "outputs": [],
   "source": [
    "for i in airbnb_listings_dataset['amen_as_list'].index:\n",
    "    for j in range(len(airbnb_listings_dataset['amen_as_list'][i])):\n",
    "        if airbnb_listings_dataset['amen_as_list'][i][j] in newDict:\n",
    "            dnew[airbnb_listings_dataset['amen_as_list'][i][j]][i] = 1\n",
    "dnew"
   ]
  },
  {
   "cell_type": "markdown",
   "id": "fbdc46e9",
   "metadata": {},
   "source": [
    "### Extra Tree Classifier"
   ]
  },
  {
   "cell_type": "code",
   "execution_count": null,
   "id": "f703967a",
   "metadata": {},
   "outputs": [],
   "source": [
    "from sklearn.ensemble import ExtraTreesClassifier\n",
    "from sklearn import preprocessing\n",
    "from sklearn import utils\n",
    "\n",
    "\n",
    "etf=ExtraTreesClassifier()\n",
    "X=dnew.drop(labels = ['scores'], axis = 1)\n",
    "y=dnew['scores']\n",
    "lab = preprocessing.LabelEncoder()\n",
    "y_transformed = lab.fit_transform(y)\n",
    "etf.fit(X, y_transformed)"
   ]
  },
  {
   "cell_type": "code",
   "execution_count": null,
   "id": "ee6730fb",
   "metadata": {},
   "outputs": [],
   "source": [
    "feature_importance=etf.feature_importances_\n",
    "feature_importance"
   ]
  },
  {
   "cell_type": "code",
   "execution_count": null,
   "id": "5a28b48e",
   "metadata": {},
   "outputs": [],
   "source": [
    "for i in range(10):\n",
    "    feature_importance[i]=feature_importance[i]*100"
   ]
  },
  {
   "cell_type": "code",
   "execution_count": null,
   "id": "71d25507",
   "metadata": {},
   "outputs": [],
   "source": [
    "newDict[4]='Long term stays'"
   ]
  },
  {
   "cell_type": "code",
   "execution_count": null,
   "id": "fb95ff5f",
   "metadata": {},
   "outputs": [],
   "source": [
    "fig=plt.figure(figsize=(17,5))\n",
    "plt.ylim(6,12)\n",
    "plt.bar(newDict, feature_importance)\n",
    "plt.xlabel('Amenities')\n",
    "plt.ylabel('Contributing factor to a good score')\n",
    "plt.title('Ameninties')\n",
    "plt.show()"
   ]
  },
  {
   "cell_type": "markdown",
   "id": "8a6a26c9",
   "metadata": {},
   "source": [
    "Used an Extra Tree Classifier to get all the Amenities that are most influencial in AirBnb Chicago. Plotted a bar plot where the most influential features are Iron, Hangers and carbon monoxide alarm."
   ]
  },
  {
   "cell_type": "markdown",
   "id": "1cb1f120",
   "metadata": {},
   "source": [
    "## Predicting future price trends for various seasons."
   ]
  },
  {
   "cell_type": "code",
   "execution_count": null,
   "id": "0dc9695a",
   "metadata": {},
   "outputs": [],
   "source": [
    "!pip install prophet"
   ]
  },
  {
   "cell_type": "code",
   "execution_count": null,
   "id": "8fd33075",
   "metadata": {},
   "outputs": [],
   "source": [
    "import datetime \n",
    "from prophet import Prophet\n",
    "from sklearn.metrics import mean_squared_error, r2_score, mean_absolute_error\n",
    "import plotly.offline as py\n",
    "import plotly.graph_objs as go\n",
    "\n",
    "py.init_notebook_mode()\n",
    "from sklearn.metrics import mean_absolute_error"
   ]
  },
  {
   "cell_type": "code",
   "execution_count": null,
   "id": "467448dc",
   "metadata": {},
   "outputs": [],
   "source": [
    "airbnb_calendar['price']=airbnb_calendar['price'].apply(lambda x: str(x).replace( '$', ''))\n",
    "airbnb_calendar['price']=pd.to_numeric(airbnb_calendar['price'], errors = 'coerce')\n",
    "df_calendar = airbnb_calendar.groupby('date')[[\"price\"]].sum()\n",
    "df_calendar['mean']=airbnb_calendar.groupby('date')[[\"price\"]].mean()\n",
    "df_calendar.columns=['Total', 'Avg']\n",
    "df_calendar.head(10)"
   ]
  },
  {
   "cell_type": "code",
   "execution_count": null,
   "id": "d2552319",
   "metadata": {},
   "outputs": [],
   "source": [
    "df_calendar2 = airbnb_calendar.set_index(\"date\")\n",
    "df_calendar2.index = pd.to_datetime(df_calendar2.index)\n",
    "df_calendar2 = df_calendar2[['price']].resample('M').mean()\n",
    "df_calendar2.head()"
   ]
  },
  {
   "cell_type": "code",
   "execution_count": null,
   "id": "18cf00d6",
   "metadata": {},
   "outputs": [],
   "source": [
    "from plotly.offline import iplot,plot,init_notebook_mode,download_plotlyjs\n",
    "import plotly.graph_objs as go\n",
    "init_notebook_mode(connected=True)\n",
    "import plotly.offline as offline\n",
    "trace3 = go.Scatter(\n",
    "    x = df_calendar2.index[:-1],\n",
    "    y = df_calendar2.price[:-1])\n",
    "layout3 = go.Layout(\n",
    "    title = \"Average Prices by Month\",\n",
    "    xaxis = dict(title = 'Month'),\n",
    "    yaxis = dict(title = 'Price ($)'))\n",
    "data3 = [trace3]\n",
    "figure3=go.Figure(data = data3,layout=layout3)\n",
    "offline.iplot(figure3)"
   ]
  },
  {
   "cell_type": "markdown",
   "id": "4398f3b8",
   "metadata": {},
   "source": [
    "The average monthly price appears to rise by 20 dollars from January 2023 to a peak of 235 dollars in July 2023"
   ]
  },
  {
   "cell_type": "code",
   "execution_count": null,
   "id": "746407f3",
   "metadata": {},
   "outputs": [],
   "source": [
    "df_calendar_copy = df_calendar.copy()\n",
    "df_calendar_copy['date'] = df_calendar_copy.index\n",
    "df_calendar_copy = df_calendar_copy[['date', 'Avg']]\n",
    "df_calendar_copy.columns = ['ds', 'y']\n",
    "df_calendar_copy.head()"
   ]
  },
  {
   "cell_type": "code",
   "execution_count": null,
   "id": "fc8f2907",
   "metadata": {},
   "outputs": [],
   "source": [
    "df_calendar_copy['y_origin'] = df_calendar_copy['y']\n",
    "df_calendar_copy['y'] = np.log(df_calendar_copy['y'])\n",
    "df_calendar_copy['ds'] =  pd.to_datetime(df_calendar_copy['ds'])\n",
    "df_calendar_copy.head()"
   ]
  },
  {
   "cell_type": "code",
   "execution_count": null,
   "id": "3f2de6ac",
   "metadata": {},
   "outputs": [],
   "source": [
    "mean = df_calendar_copy['y'].mean()\n",
    "stdev = df_calendar_copy['y'].std()\n",
    "q1 = df_calendar_copy['y'].quantile(0.25)\n",
    "q3 = df_calendar_copy['y'].quantile(0.75)\n",
    "iqr = q3 - q1\n",
    "high = mean + stdev\n",
    "low = mean - stdev"
   ]
  },
  {
   "cell_type": "code",
   "execution_count": null,
   "id": "6c09ac14",
   "metadata": {},
   "outputs": [],
   "source": [
    "df_filtered = df_calendar_copy[(df_calendar_copy['y'] > high) | (df_calendar_copy['y'] < low)]\n",
    "df_filtered_changepoints = df_filtered\n",
    "\n",
    "filtered_iqr = df_calendar_copy[(df_calendar_copy['y'] < q1 - (1.5 * iqr)) | (df_calendar_copy['y'] < q3 + (1.5 * iqr)) ]"
   ]
  },
  {
   "cell_type": "code",
   "execution_count": null,
   "id": "01f0291f",
   "metadata": {},
   "outputs": [],
   "source": [
    "prophet = Prophet(\n",
    "                  interval_width = 0.95,\n",
    "                  weekly_seasonality = True,\n",
    "                  yearly_seasonality = True,\n",
    "                  changepoint_prior_scale = 0.095)\n",
    "\n",
    "prophet.fit(df_calendar_copy)\n",
    "future = prophet.make_future_dataframe(periods = 60, freq = 'd')\n",
    "future['cap'] = 5.05\n",
    "forecast = prophet.predict(future)"
   ]
  },
  {
   "cell_type": "code",
   "execution_count": null,
   "id": "2d60c07e",
   "metadata": {
    "scrolled": true
   },
   "outputs": [],
   "source": [
    "future"
   ]
  },
  {
   "cell_type": "code",
   "execution_count": null,
   "id": "0a242a89",
   "metadata": {},
   "outputs": [],
   "source": [
    "future=prophet.make_future_dataframe(periods = 60,freq = 'd')\n",
    "future['cap']=5.05\n",
    "forecast=prophet.predict(future)"
   ]
  },
  {
   "cell_type": "code",
   "execution_count": null,
   "id": "a1a2dfa0",
   "metadata": {},
   "outputs": [],
   "source": [
    "py.iplot([\n",
    "    go.Scatter(x=df_calendar_copy['ds'],y=df_calendar_copy['y'],name='y'),\n",
    "    go.Scatter(x=forecast['ds'],y=forecast['yhat'],name='yhat'),\n",
    "    go.Scatter(x=forecast['ds'],y=forecast['yhat_upper'],fill='tonexty',mode='none',name='upper'),\n",
    "    go.Scatter(x=forecast['ds'],y=forecast['yhat_lower'],fill='tonexty',mode='none',name='lower')])"
   ]
  },
  {
   "cell_type": "markdown",
   "id": "6ce6d546",
   "metadata": {},
   "source": [
    "The forecast object is a dataframe that includes a column yhat with the prediction as well as columns for components and uncertainty levels. The predict method will assign each row in the future a forecasted value that it names yhat."
   ]
  },
  {
   "cell_type": "code",
   "execution_count": null,
   "id": "4ea29370",
   "metadata": {},
   "outputs": [],
   "source": [
    "df_comparison=pd.DataFrame()\n",
    "df_comparison=pd.merge(df_calendar_copy,forecast,left_on='ds',right_on='ds')\n",
    "df_comparison.head()"
   ]
  },
  {
   "cell_type": "code",
   "execution_count": null,
   "id": "078c59e0",
   "metadata": {},
   "outputs": [],
   "source": [
    "print(\"Mean_absolute_error yhat\\t: {}\\nMean_absolute_error trend\\t: {}\\nMean_absolute_error yhat_lower: {}\\nMean_absolute_error yhat_upper: {}\".format(\n",
    "    mean_absolute_error(df_comparison['y'].values,df_comparison['yhat']),\n",
    "    mean_absolute_error(df_comparison['y'].values,df_comparison['trend']),\n",
    "    mean_absolute_error(df_comparison['y'].values,df_comparison['yhat_lower']),\n",
    "    mean_absolute_error(df_comparison['y'].values,df_comparison['yhat_upper'])))"
   ]
  },
  {
   "cell_type": "code",
   "execution_count": null,
   "id": "1c3e5ae0",
   "metadata": {
    "scrolled": true
   },
   "outputs": [],
   "source": [
    "prophet.plot_components(forecast)"
   ]
  },
  {
   "cell_type": "markdown",
   "id": "6ab6fe3e",
   "metadata": {},
   "source": [
    "The results of time series analysis used to forecast price changes based on seasons were as follows:\n",
    "1. Given the slanted line on the upper side of the figure, the Trend appears to be accelerating in the future.(From 2022-11 to 2023-11)\n",
    "2. Regarding the day of the week, the plot indicates a rise on weekends starting on Friday and a decline on Sunday.\n",
    "3. The forecast appears to be constant in yearly plots during the summer and indicates a drop as winter approaches.\n"
   ]
  }
 ],
 "metadata": {
  "kernelspec": {
   "display_name": "Python 3 (ipykernel)",
   "language": "python",
   "name": "python3"
  },
  "language_info": {
   "codemirror_mode": {
    "name": "ipython",
    "version": 3
   },
   "file_extension": ".py",
   "mimetype": "text/x-python",
   "name": "python",
   "nbconvert_exporter": "python",
   "pygments_lexer": "ipython3",
   "version": "3.9.12"
  }
 },
 "nbformat": 4,
 "nbformat_minor": 5
}
